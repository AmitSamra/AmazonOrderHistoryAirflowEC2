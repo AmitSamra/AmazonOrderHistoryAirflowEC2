{
 "cells": [
  {
   "cell_type": "code",
   "execution_count": null,
   "metadata": {},
   "outputs": [],
   "source": [
    "import numpy as np\n",
    "import pandas as pd\n",
    "import matplotlib.pyplot as plt\n",
    "import matplotlib.ticker as ticker\n",
    "import matplotlib.markers as markers\n",
    "from datetime import timedelta, datetime\n",
    "import os\n",
    "import sqlalchemy\n",
    "from sqlalchemy import create_engine\n",
    "from dotenv import load_dotenv\n",
    "#pd.set_option('display.max_rows', 1000)"
   ]
  },
  {
   "cell_type": "code",
   "execution_count": null,
   "metadata": {},
   "outputs": [],
   "source": [
    "dotenv_local_path = './.env'\n",
    "load_dotenv(dotenv_path=dotenv_local_path, verbose=True) "
   ]
  },
  {
   "cell_type": "code",
   "execution_count": null,
   "metadata": {},
   "outputs": [],
   "source": [
    "%load_ext dotenv\n",
    "%dotenv"
   ]
  },
  {
   "cell_type": "code",
   "execution_count": null,
   "metadata": {},
   "outputs": [],
   "source": [
    "# Connect to SQL\n",
    "\n",
    "engine = create_engine(\"postgres://\" + os.environ.get(\"AWS_POSTGRES_USER\") + \":\" + os.environ.get(\"AWS_POSTGRES_PASSWORD\") + \"@\" + \"amazon.coqoinqxklrf.us-east-1.rds.amazonaws.com:5432/postgres\")"
   ]
  },
  {
   "cell_type": "code",
   "execution_count": null,
   "metadata": {
    "scrolled": true
   },
   "outputs": [],
   "source": [
    "# Create df from SQL\n",
    "\n",
    "df = pd.read_sql(\"SELECT * FROM amazon.purchases_aws\", con=engine, parse_dates = ['OrderDate', 'ShipDate'])\n",
    "df.head()"
   ]
  },
  {
   "cell_type": "code",
   "execution_count": null,
   "metadata": {},
   "outputs": [],
   "source": [
    "# Cumulative total spent from 2008-2019, inclusive\n",
    "\n",
    "TotalSpent = df['ItemTotal'].sum()\n",
    "TotalSpent"
   ]
  },
  {
   "cell_type": "code",
   "execution_count": null,
   "metadata": {},
   "outputs": [],
   "source": [
    "# Total number of transactions\n",
    "\n",
    "NumTrans = len(df['ItemTotal'])\n",
    "NumTrans"
   ]
  },
  {
   "cell_type": "code",
   "execution_count": null,
   "metadata": {},
   "outputs": [],
   "source": [
    "# Average spent\n",
    "\n",
    "AvgSpent = TotalSpent/NumTrans\n",
    "AvgSpent"
   ]
  },
  {
   "cell_type": "code",
   "execution_count": null,
   "metadata": {},
   "outputs": [],
   "source": [
    "# Use groupby to sum purchases by date\n",
    "\n",
    "df_DateTotal = df[['OrderDate', 'ItemTotal']]\n",
    "df_DateTotal = df_DateTotal.groupby('OrderDate')\n",
    "df_DateTotal = df_DateTotal.sum('ItemTotal')\n",
    "df_DateTotal"
   ]
  },
  {
   "cell_type": "code",
   "execution_count": null,
   "metadata": {
    "scrolled": true
   },
   "outputs": [],
   "source": [
    "# Plot OrderDate & sum of purchases by date\n",
    "\n",
    "fig, ax = plt.subplots(figsize=(15,5))\n",
    "ax.plot(df_DateTotal.index, df_DateTotal.values)\n",
    "ax.set_xlabel('Order Date')\n",
    "ax.set_ylabel('Item Total')\n",
    "ax.set_title('Daily Purchase Amount')\n",
    "plt.show()\n",
    "#ax.figure.savefig('./img/DailyPurchaseAmount.png', bbox_inches='tight', dpi=150)"
   ]
  },
  {
   "cell_type": "code",
   "execution_count": null,
   "metadata": {},
   "outputs": [],
   "source": [
    "# Use groupby to sum taxes by date\n",
    "\n",
    "df_DateTax = df[['OrderDate', 'Tax']]\n",
    "df_DateTax = df_DateTax.groupby('OrderDate')\n",
    "df_DateTax = df_DateTax.sum('Tax')\n",
    "df_DateTax"
   ]
  },
  {
   "cell_type": "code",
   "execution_count": null,
   "metadata": {},
   "outputs": [],
   "source": [
    "# Plot OrderDate and ItemTotal and OrderDate and PurchasePricePerUnit\n",
    "\n",
    "fig, ax = plt.subplots(1,2, sharey = True)\n",
    "\n",
    "ax[0].plot(df_DateTotal.index, df_DateTotal.values)\n",
    "ax[1].plot(df_DateTax.index, df_DateTax.values, color = 'r')\n",
    "\n",
    "ax[0].set_xlabel('Order Date')\n",
    "ax[0].set_ylabel('$ Total')\n",
    "ax[1].set_xlabel('Order Date')\n",
    "\n",
    "ax[0].set_title('Daily Purchase Amount')\n",
    "ax[1].set_title('Daily Tax Amount')\n",
    "\n",
    "plt.show()"
   ]
  },
  {
   "cell_type": "code",
   "execution_count": null,
   "metadata": {},
   "outputs": [],
   "source": [
    "# The previous graphs contained too much data since they were being plotted for each day. \n",
    "# Grouping will allow the information to be more legible.\n",
    "\n",
    "# Purchases by Year \n",
    "\n",
    "df_OrderYear = df[['OrderDate', 'ItemTotal', 'OrderYear']]\n",
    "df_OrderYear = df_OrderYear.sort_values('OrderDate')\n",
    "df_OrderYear = df_OrderYear.groupby('OrderYear')\n",
    "df_OrderYear = df_OrderYear['ItemTotal'].sum()\n",
    "print(df_OrderYear)"
   ]
  },
  {
   "cell_type": "code",
   "execution_count": null,
   "metadata": {
    "scrolled": true
   },
   "outputs": [],
   "source": [
    "fig,ax = plt.subplots(figsize=(10,5))\n",
    "ax.plot(df_OrderYear.index, df_OrderYear.values, marker = 'o')\n",
    "ax.set_xlabel('Year')\n",
    "ax.set_ylabel('$ Amount')\n",
    "ax.set_title('Purchases by Year')\n",
    "plt.xticks([x for x in df_OrderYear.index], rotation=0)\n",
    "\n",
    "ax.yaxis.set_major_formatter(\n",
    "    ticker.FuncFormatter(lambda y,p: format(int(y),','))\n",
    ")\n",
    "\n",
    "plt.show()"
   ]
  },
  {
   "cell_type": "code",
   "execution_count": null,
   "metadata": {},
   "outputs": [],
   "source": [
    "fig,ax = plt.subplots(figsize=(10,5))\n",
    "ax.bar(df_OrderYear.index, df_OrderYear.values, color='darkorange')\n",
    "ax.set_xlabel('Year')\n",
    "ax.set_ylabel('$ Amount')\n",
    "ax.set_title('Purchases by Year')\n",
    "plt.xticks([x for x in df_OrderYear.index], rotation=0)\n",
    "\n",
    "ax.yaxis.set_major_formatter(\n",
    "    ticker.FuncFormatter(lambda y,p: format(int(y),','))\n",
    ")\n",
    "\n",
    "for i,j in zip(df_OrderYear.index,df_OrderYear.values):\n",
    "    ax.annotate(format(int(j), ','), xy=(i,j), va='bottom', ha='center')\n",
    "\n",
    "plt.show()\n",
    "#ax.figure.savefig('./img/PurchasesByYear.png', bbox_inches='tight', dpi=150)"
   ]
  },
  {
   "cell_type": "code",
   "execution_count": null,
   "metadata": {},
   "outputs": [],
   "source": [
    "# Purchases by Month\n",
    "\n",
    "df_OrderMonth = df[['OrderDate', 'ItemTotal', 'OrderMonth']]\n",
    "df_OrderMonth = df_OrderMonth.sort_values('OrderDate')\n",
    "df_OrderMonth = df_OrderMonth.groupby('OrderMonth', as_index=False)\n",
    "df_OrderMonth = df_OrderMonth['ItemTotal'].sum()\n",
    "months = [\"Jan\", \"Feb\", \"Mar\", \"Apr\", \"May\", \"Jun\", \"Jul\", \"Aug\", \"Sep\", \"Oct\", \"Nov\", \"Dec\"]\n",
    "df_OrderMonth['month_name'] = months\n",
    "df_OrderMonth"
   ]
  },
  {
   "cell_type": "code",
   "execution_count": null,
   "metadata": {},
   "outputs": [],
   "source": [
    "fig, ax = plt.subplots(figsize=(10,5))\n",
    "ax.plot(df_OrderMonth.month_name, df_OrderMonth.ItemTotal, marker = 'o')\n",
    "ax.set_xlabel('Month')\n",
    "ax.set_ylabel('$ Amount')\n",
    "ax.set_title('Purchases by Month')\n",
    "plt.xticks([x for x in df_OrderMonth.index])\n",
    "\n",
    "ax.yaxis.set_major_formatter(\n",
    "    ticker.FuncFormatter(lambda y,p: format(int(y),','))\n",
    ")\n",
    "\n",
    "plt.show()"
   ]
  },
  {
   "cell_type": "code",
   "execution_count": null,
   "metadata": {},
   "outputs": [],
   "source": [
    "fig, ax = plt.subplots(figsize=(10,5))\n",
    "ax.bar(df_OrderMonth.month_name, df_OrderMonth.ItemTotal, color='tomato')\n",
    "ax.set_xlabel('Month')\n",
    "ax.set_ylabel('$ Amount')\n",
    "ax.set_title('Purchases by Month')\n",
    "plt.xticks([x for x in df_OrderMonth.index])\n",
    "\n",
    "ax.yaxis.set_major_formatter(\n",
    "    ticker.FuncFormatter(lambda y,p: format(int(y),','))\n",
    ")\n",
    "\n",
    "for i,j in zip(df_OrderMonth.month_name, df_OrderMonth.ItemTotal):\n",
    "    ax.annotate(format(int(j), ','), xy=(i,j), va='bottom', ha='center')\n",
    "\n",
    "plt.show()\n",
    "#ax.figure.savefig('./img/PurchasesByMonth.png', bbox_inches='tight', dpi=150)"
   ]
  },
  {
   "cell_type": "code",
   "execution_count": null,
   "metadata": {},
   "outputs": [],
   "source": [
    "# Transactions by Year\n",
    "\n",
    "df_TransYear = df[['OrderDate', 'ItemTotal', 'OrderYear']]\n",
    "df_TransYear = df_TransYear.groupby('OrderYear', as_index=False)\n",
    "df_TransYear = df_TransYear['ItemTotal'].size()\n",
    "df_TransYear = df_TransYear.rename(columns={'size':'Trans'})\n",
    "df_TransYear"
   ]
  },
  {
   "cell_type": "code",
   "execution_count": null,
   "metadata": {},
   "outputs": [],
   "source": [
    "fig,ax = plt.subplots(figsize=(10,5))\n",
    "ax.plot(df_TransYear.OrderYear, df_TransYear.Trans, marker = 'o')\n",
    "ax.set_xlabel('Year')\n",
    "ax.set_ylabel('Transactions')\n",
    "ax.set_title('Transactions by Year')\n",
    "plt.xticks([x for x in df_TransYear.OrderYear])\n",
    "\n",
    "plt.show()\n",
    "#ax.figure.savefig('./img/TransactionsByYear.png', bbox_inches='tight', dpi=150)"
   ]
  },
  {
   "cell_type": "code",
   "execution_count": null,
   "metadata": {},
   "outputs": [],
   "source": [
    "# Transactions by Seller\n",
    "\n",
    "df_TransSeller = df[['Seller']]\n",
    "df_TransSeller = df_TransSeller.groupby(df_TransSeller['Seller'] == 'Amazon')\n",
    "df_TransSeller = df_TransSeller.size()\n",
    "df_TransSeller"
   ]
  },
  {
   "cell_type": "code",
   "execution_count": null,
   "metadata": {},
   "outputs": [],
   "source": [
    "fig,ax = plt.subplots(figsize=(10,5))\n",
    "ax.pie(df_TransSeller.values, labels = ['Third Party', 'Amazon'], autopct = '%1.1f%%')\n",
    "ax.set_title('Transactions by Seller')\n",
    "ax.axis('equal')\n",
    "plt.show()"
   ]
  },
  {
   "cell_type": "code",
   "execution_count": null,
   "metadata": {},
   "outputs": [],
   "source": [
    "fig, ax = plt.subplots(figsize=(10,5))\n",
    "ax.pie(df_TransSeller.values, autopct = '%1.1f%%')\n",
    "ax.legend(\n",
    "    #df_TransSeller.index,\n",
    "    title = 'Seller',\n",
    "    labels = ['Third Party', 'Amazon'],\n",
    "    loc = 'center left',\n",
    "    bbox_to_anchor = (.75,.5,0,0)\n",
    ")\n",
    "ax.set_title('Transactions by Seller')\n",
    "ax.axis('equal')\n",
    "plt.show()\n",
    "#ax.figure.savefig('./img/TransactionsBySeller.png', bbox_inches='tight', dpi=150)"
   ]
  },
  {
   "cell_type": "code",
   "execution_count": null,
   "metadata": {},
   "outputs": [],
   "source": [
    "# Purchases by Seller\n",
    "\n",
    "df_PurchasesSeller = df[['Seller', 'ItemTotal']]\n",
    "df_PurchasesSeller = df_PurchasesSeller.groupby(df_PurchasesSeller['Seller'] == 'Amazon')\n",
    "df_PurchasesSeller = df_PurchasesSeller['ItemTotal'].sum()\n",
    "df_PurchasesSeller"
   ]
  },
  {
   "cell_type": "code",
   "execution_count": null,
   "metadata": {},
   "outputs": [],
   "source": [
    "fig,ax = plt.subplots(figsize=(10,5))\n",
    "ax.pie(df_PurchasesSeller.values, autopct = '%1.1f%%')\n",
    "ax.legend(\n",
    "    #df_PurchasesSeller.index,\n",
    "    title = 'Seller',\n",
    "    labels = ['Third Party', 'Amazon'],\n",
    "    loc = 'center left',\n",
    "    bbox_to_anchor = (.75,.5,0,0)    \n",
    ")\n",
    "ax.set_title('Purchases by Seller')\n",
    "ax.axis('equal')\n",
    "plt.show()\n",
    "#ax.figure.savefig('./img/PurchasesBySeller.png', bbox_inches='tight', dpi=150)"
   ]
  },
  {
   "cell_type": "code",
   "execution_count": null,
   "metadata": {},
   "outputs": [],
   "source": [
    "# Purchases by Category\n",
    "# Note: it is necessary to sort by reverse in the df so the plot can be arranged alphabetically\n",
    "# from top to bottom\n",
    "\n",
    "df_CategoryTotal = df[['Category', 'ItemTotal']]\n",
    "df_CategoryTotal = df_CategoryTotal.groupby('Category')\n",
    "df_CategoryTotal = df_CategoryTotal['ItemTotal'].sum()\n",
    "df_CategoryTotal = df_CategoryTotal.sort_index(ascending = False)\n",
    "df_CategoryTotal"
   ]
  },
  {
   "cell_type": "code",
   "execution_count": null,
   "metadata": {},
   "outputs": [],
   "source": [
    "# Plot purchases by category\n",
    "\n",
    "fig,ax = plt.subplots(figsize=(15,5))\n",
    "ax.barh(df_CategoryTotal.index, df_CategoryTotal.values)\n",
    "ax.set_xlabel('$ Amount')\n",
    "ax.set_ylabel('Category')\n",
    "ax.set_title('Purchases by Category')\n",
    "\n",
    "ax.xaxis.set_major_formatter(\n",
    "    ticker.FuncFormatter(lambda x,p: format(int(x),','))\n",
    ")\n",
    "\n",
    "for i,j in zip(df_CategoryTotal.values, df_CategoryTotal.index):\n",
    "    ax.annotate(format(int(i), ','), xy=(i,j), va='center', ha='left')\n",
    "\n",
    "plt.show()\n",
    "#ax.figure.savefig('./img/PurchasesByCategory.png', bbox_inches='tight', dpi=150)"
   ]
  },
  {
   "cell_type": "code",
   "execution_count": null,
   "metadata": {},
   "outputs": [],
   "source": [
    "# Purchases by category share\n",
    "\n",
    "df_CategoryShare = df[['Category', 'ItemTotal']]\n",
    "df_CategoryShare = df_CategoryShare.groupby('Category', as_index = False)\n",
    "df_CategoryShare = df_CategoryShare['ItemTotal'].sum()\n",
    "df_CategoryShare['Share'] = df_CategoryShare['ItemTotal'].div(df_CategoryShare['ItemTotal'].sum())*100\n",
    "df_CategoryShare = df_CategoryShare.sort_values('Category', ascending = False)\n",
    "df_CategoryShare"
   ]
  },
  {
   "cell_type": "code",
   "execution_count": null,
   "metadata": {},
   "outputs": [],
   "source": [
    "# Plot purchases by category share\n",
    "\n",
    "fig,ax = plt.subplots(figsize=(10,5))\n",
    "ax.barh(df_CategoryShare['Category'],df_CategoryShare['Share'], color='tomato')\n",
    "ax.set_xlabel('Percent')\n",
    "ax.set_ylabel('Category')\n",
    "ax.set_title('Purchases by Category Share')\n",
    "\n",
    "for i,j in zip(df_CategoryShare['Share'], df_CategoryShare['Category']):\n",
    "    ax.annotate(format(str(int(i))+'%', ''), xy=(i,j), va='center', ha='left')\n",
    "    \n",
    "ax.xaxis.set_major_formatter(\n",
    "    ticker.FuncFormatter(lambda x,p: format(str(int(x))+'%',''))\n",
    ")\n",
    "\n",
    "plt.show()\n",
    "#ax.figure.savefig('./img/PurchasesByCategoryShare.png', bbox_inches='tight', dpi=150)"
   ]
  },
  {
   "cell_type": "code",
   "execution_count": null,
   "metadata": {},
   "outputs": [],
   "source": [
    "# Purchases by day of week\n",
    "\n",
    "df_DayPur = df[['OrderDayIndex','OrderDayName','ItemTotal']]\n",
    "df_DayPur = df_DayPur.groupby(['OrderDayName','OrderDayIndex'], as_index = False)\n",
    "df_DayPur = df_DayPur['ItemTotal'].sum()\n",
    "df_DayPur = df_DayPur.sort_values('OrderDayIndex')\n",
    "df_DayPur"
   ]
  },
  {
   "cell_type": "code",
   "execution_count": null,
   "metadata": {},
   "outputs": [],
   "source": [
    "# Plot purchases by day of week\n",
    "\n",
    "fig,ax = plt.subplots(figsize=(10,5))\n",
    "ax.bar(df_DayPur['OrderDayName'],df_DayPur['ItemTotal'], color='skyblue')\n",
    "ax.set_xlabel('Day')\n",
    "ax.set_ylabel('$ Amount')\n",
    "ax.set_title('Purchases by Day')\n",
    "plt.xticks(rotation = 0)\n",
    "\n",
    "ax.yaxis.set_major_formatter(\n",
    "    ticker.FuncFormatter(lambda y,p: format(int(y),','))\n",
    ")\n",
    "\n",
    "for i,j in zip(df_DayPur['OrderDayName'],df_DayPur['ItemTotal']):\n",
    "    ax.annotate(format(int(j), ','), xy=(i,j), va='bottom', ha='center')\n",
    "\n",
    "plt.show()\n",
    "#ax.figure.savefig('./img/PurchasesByDay.png', bbox_inches='tight', dpi=150)"
   ]
  },
  {
   "cell_type": "code",
   "execution_count": null,
   "metadata": {},
   "outputs": [],
   "source": [
    "# Avg transaction value by year\n",
    "\n",
    "df_YearAvgTrans = df[['OrderYear','ItemTotal']]\n",
    "df_YearAvgTrans = df_YearAvgTrans.groupby(['OrderYear'], as_index = False)\n",
    "df_YearAvgTrans = df_YearAvgTrans['ItemTotal'].sum()\n",
    "df_YearAvgTrans"
   ]
  },
  {
   "cell_type": "code",
   "execution_count": null,
   "metadata": {},
   "outputs": [],
   "source": [
    "df_NumTransYear = df[['OrderYear', 'OrderID']].groupby('OrderYear').size()\n",
    "df_NumTransYear"
   ]
  },
  {
   "cell_type": "code",
   "execution_count": null,
   "metadata": {},
   "outputs": [],
   "source": [
    "df_YearAvgTrans['Trans'] = df_NumTransYear.values\n",
    "df_YearAvgTrans"
   ]
  },
  {
   "cell_type": "code",
   "execution_count": null,
   "metadata": {},
   "outputs": [],
   "source": [
    "df_YearAvgTrans['AvgPerTrans'] = df_YearAvgTrans['ItemTotal'].div(df_YearAvgTrans['Trans'])\n",
    "df_YearAvgTrans"
   ]
  },
  {
   "cell_type": "code",
   "execution_count": null,
   "metadata": {},
   "outputs": [],
   "source": [
    "# All of the above can be done more quickly using the following:\n",
    "\n",
    "#df_YearAvgTrans = df[['OrderYear','ItemTotal']]\n",
    "#df_YearAvgTrans = df_YearAvgTrans.groupby(['OrderYear'], as_index = False)['ItemTotal'].sum()\n",
    "\n",
    "#df_YearOrders = df[['OrderYear','ItemTotal']].groupby('OrderYear')['ItemTotal'].size()\n",
    "#df_YearAvgTrans['Trans'] = df_YearOrders.values\n",
    "\n",
    "#df_YearAvgTrans['AvgTrans'] = df_YearAvgTrans['ItemTotal'].div(df_YearAvgTrans['Trans'])\n",
    "#df_YearAvgTrans"
   ]
  },
  {
   "cell_type": "code",
   "execution_count": null,
   "metadata": {},
   "outputs": [],
   "source": [
    "# Plot average per transaction by year\n",
    "\n",
    "fig, ax = plt.subplots(figsize=(10,5))\n",
    "ax.bar(df_YearAvgTrans['OrderYear'],df_YearAvgTrans['AvgPerTrans'], color='mediumaquamarine')\n",
    "ax.set_xlabel('Year')\n",
    "ax.set_ylabel('$ Amount')\n",
    "ax.set_title('Average per Transaction per Year')\n",
    "plt.xticks([x for x in df_YearAvgTrans['OrderYear']], rotation = 0)\n",
    "\n",
    "ax.yaxis.set_major_formatter(\n",
    "    ticker.FuncFormatter(lambda y,p: format(int(y),','))\n",
    ")\n",
    "\n",
    "for i,j in zip(df_YearAvgTrans['OrderYear'],df_YearAvgTrans['AvgPerTrans']):\n",
    "    ax.annotate(format(int(j), ','), xy=(i,j), va='bottom', ha='center')\n",
    "\n",
    "plt.show()\n",
    "#ax.figure.savefig('./img/AveragePerTransPerYear.png', bbox_inches='tight', dpi=150)"
   ]
  },
  {
   "cell_type": "code",
   "execution_count": null,
   "metadata": {},
   "outputs": [],
   "source": [
    "# Shipping method\n",
    "\n",
    "df_Carriers = df['Carrier']\n",
    "CarrierVC = df_Carriers.value_counts()\n",
    "CarrierVC = CarrierVC.sort_index(ascending = False)\n",
    "CarrierVC"
   ]
  },
  {
   "cell_type": "code",
   "execution_count": null,
   "metadata": {},
   "outputs": [],
   "source": [
    "# Plot of shipping method\n",
    "\n",
    "fig,ax = plt.subplots(figsize=(10,5))\n",
    "ax.barh(CarrierVC.index, CarrierVC.values, color='steelblue')\n",
    "ax.set_xlabel('Number of Orders')\n",
    "ax.set_ylabel('Carrier')\n",
    "ax.set_title('Shipping Method')\n",
    "\n",
    "for i,j in zip(CarrierVC.values, CarrierVC.index):\n",
    "    ax.annotate(format(int(i), ','), xy=(i,j), va='center', ha='left')\n",
    "    \n",
    "ax.xaxis.set_major_formatter(\n",
    "    ticker.FuncFormatter(lambda x,p: format(int(x),','))\n",
    ")\n",
    "\n",
    "plt.show()\n",
    "#ax.figure.savefig('./img/ShippingMethod.png', bbox_inches='tight', dpi=150)"
   ]
  },
  {
   "cell_type": "code",
   "execution_count": null,
   "metadata": {},
   "outputs": [],
   "source": [
    "# Shipping method and avg transaction cost\n",
    "\n",
    "df_CarrierTotal = df[['Carrier', 'ItemTotal']]\n",
    "df_CarrierTotal = df_CarrierTotal.groupby('Carrier', as_index = False)['ItemTotal'].sum()\n",
    "\n",
    "df_CarrierTrans = df[['Carrier', 'ItemTotal']].groupby('Carrier')['ItemTotal'].size()\n",
    "df_CarrierTotal['NumTrans'] = df_CarrierTrans.values\n",
    "\n",
    "df_CarrierTotal['AvgPerTrans'] = df_CarrierTotal['ItemTotal'].div(df_CarrierTotal['NumTrans']).round(2)\n",
    "\n",
    "df_CarrierTotal = df_CarrierTotal.sort_values('Carrier', ascending = False)\n",
    "df_CarrierTotal"
   ]
  },
  {
   "cell_type": "code",
   "execution_count": null,
   "metadata": {},
   "outputs": [],
   "source": [
    "# Plot shipping method and avg transaction cost\n",
    "\n",
    "fig,ax = plt.subplots(figsize=(10,5))\n",
    "ax.barh(df_CarrierTotal['Carrier'], df_CarrierTotal['AvgPerTrans'], color='tomato')\n",
    "ax.set_xlabel('$ Avg Per Transaction')\n",
    "ax.set_ylabel('Carrier')\n",
    "ax.set_title('Shipping Method & Average Price Per Transaction')\n",
    "\n",
    "for i,j in zip(df_CarrierTotal['AvgPerTrans'], df_CarrierTotal['Carrier']):\n",
    "    ax.annotate(format(int(i), ','), xy=(i,j), va='center', ha='left')\n",
    "    \n",
    "ax.xaxis.set_major_formatter(\n",
    "    ticker.FuncFormatter(lambda x,p: format(int(x),','))\n",
    ")\n",
    "\n",
    "plt.show()\n",
    "#ax.figure.savefig('./img/ShippingMethodPrice.png', bbox_inches='tight', dpi=150)"
   ]
  },
  {
   "cell_type": "code",
   "execution_count": null,
   "metadata": {},
   "outputs": [],
   "source": []
  }
 ],
 "metadata": {
  "kernelspec": {
   "display_name": "Python 3",
   "language": "python",
   "name": "python3"
  },
  "language_info": {
   "codemirror_mode": {
    "name": "ipython",
    "version": 3
   },
   "file_extension": ".py",
   "mimetype": "text/x-python",
   "name": "python",
   "nbconvert_exporter": "python",
   "pygments_lexer": "ipython3",
   "version": "3.8.5"
  }
 },
 "nbformat": 4,
 "nbformat_minor": 4
}
