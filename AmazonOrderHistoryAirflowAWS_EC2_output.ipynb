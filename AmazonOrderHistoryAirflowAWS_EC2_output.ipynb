{
 "cells": [
  {
   "cell_type": "code",
   "execution_count": 1,
   "metadata": {
    "execution": {
     "iopub.execute_input": "2020-11-08T02:33:38.994297Z",
     "iopub.status.busy": "2020-11-08T02:33:38.993056Z",
     "iopub.status.idle": "2020-11-08T02:33:39.418380Z",
     "shell.execute_reply": "2020-11-08T02:33:39.419298Z"
    },
    "papermill": {
     "duration": 0.455165,
     "end_time": "2020-11-08T02:33:39.419595",
     "exception": false,
     "start_time": "2020-11-08T02:33:38.964430",
     "status": "completed"
    },
    "tags": []
   },
   "outputs": [],
   "source": [
    "import numpy as np\n",
    "import pandas as pd\n",
    "import matplotlib.pyplot as plt\n",
    "import os\n",
    "import sqlalchemy\n",
    "from sqlalchemy import create_engine\n",
    "from dotenv import load_dotenv\n",
    "#pd.set_option('display.max_rows', 1000)"
   ]
  },
  {
   "cell_type": "code",
   "execution_count": 2,
   "metadata": {
    "execution": {
     "iopub.execute_input": "2020-11-08T02:33:39.456526Z",
     "iopub.status.busy": "2020-11-08T02:33:39.455653Z",
     "iopub.status.idle": "2020-11-08T02:33:39.458904Z",
     "shell.execute_reply": "2020-11-08T02:33:39.459634Z"
    },
    "papermill": {
     "duration": 0.024014,
     "end_time": "2020-11-08T02:33:39.459779",
     "exception": false,
     "start_time": "2020-11-08T02:33:39.435765",
     "status": "completed"
    },
    "tags": []
   },
   "outputs": [
    {
     "data": {
      "text/plain": [
       "True"
      ]
     },
     "execution_count": 2,
     "metadata": {},
     "output_type": "execute_result"
    }
   ],
   "source": [
    "dotenv_local_path = './.env'\n",
    "load_dotenv(dotenv_path=dotenv_local_path, verbose=True) "
   ]
  },
  {
   "cell_type": "code",
   "execution_count": 3,
   "metadata": {
    "execution": {
     "iopub.execute_input": "2020-11-08T02:33:39.495664Z",
     "iopub.status.busy": "2020-11-08T02:33:39.494525Z",
     "iopub.status.idle": "2020-11-08T02:33:39.498493Z",
     "shell.execute_reply": "2020-11-08T02:33:39.497776Z"
    },
    "papermill": {
     "duration": 0.023536,
     "end_time": "2020-11-08T02:33:39.498622",
     "exception": false,
     "start_time": "2020-11-08T02:33:39.475086",
     "status": "completed"
    },
    "tags": []
   },
   "outputs": [
    {
     "name": "stdout",
     "output_type": "stream",
     "text": [
      "cannot find .env file\n"
     ]
    }
   ],
   "source": [
    "%load_ext dotenv\n",
    "%dotenv"
   ]
  },
  {
   "cell_type": "code",
   "execution_count": 4,
   "metadata": {
    "execution": {
     "iopub.execute_input": "2020-11-08T02:33:39.532917Z",
     "iopub.status.busy": "2020-11-08T02:33:39.532023Z",
     "iopub.status.idle": "2020-11-08T02:33:39.553409Z",
     "shell.execute_reply": "2020-11-08T02:33:39.554534Z"
    },
    "papermill": {
     "duration": 0.041258,
     "end_time": "2020-11-08T02:33:39.554803",
     "exception": false,
     "start_time": "2020-11-08T02:33:39.513545",
     "status": "completed"
    },
    "tags": []
   },
   "outputs": [],
   "source": [
    "# Connect to SQL\n",
    "\n",
    "#engine = create_engine('mysql+pymysql://' + os.environ.get(\"MYSQL_USER\") + \":\" + os.environ.get(\"MYSQL_PASSWORD\") + '@localhost:3306/amazon')\n",
    "engine = create_engine(\"postgres://\" + os.environ.get(\"AWS_POSTGRES_USER\") + \":\" + os.environ.get(\"AWS_POSTGRES_PASSWORD\") + \"@\" + \"amazon.coqoinqxklrf.us-east-1.rds.amazonaws.com:5432/postgres\")"
   ]
  },
  {
   "cell_type": "code",
   "execution_count": 5,
   "metadata": {
    "execution": {
     "iopub.execute_input": "2020-11-08T02:33:39.596597Z",
     "iopub.status.busy": "2020-11-08T02:33:39.595709Z",
     "iopub.status.idle": "2020-11-08T02:33:40.550680Z",
     "shell.execute_reply": "2020-11-08T02:33:40.551632Z"
    },
    "papermill": {
     "duration": 0.975843,
     "end_time": "2020-11-08T02:33:40.551815",
     "exception": false,
     "start_time": "2020-11-08T02:33:39.575972",
     "status": "completed"
    },
    "scrolled": true,
    "tags": []
   },
   "outputs": [
    {
     "data": {
      "text/html": [
       "<div>\n",
       "<style scoped>\n",
       "    .dataframe tbody tr th:only-of-type {\n",
       "        vertical-align: middle;\n",
       "    }\n",
       "\n",
       "    .dataframe tbody tr th {\n",
       "        vertical-align: top;\n",
       "    }\n",
       "\n",
       "    .dataframe thead th {\n",
       "        text-align: right;\n",
       "    }\n",
       "</style>\n",
       "<table border=\"1\" class=\"dataframe\">\n",
       "  <thead>\n",
       "    <tr style=\"text-align: right;\">\n",
       "      <th></th>\n",
       "      <th>OrderID</th>\n",
       "      <th>OrderDate</th>\n",
       "      <th>Category</th>\n",
       "      <th>Condition</th>\n",
       "      <th>Seller</th>\n",
       "      <th>ListPricePerUnit</th>\n",
       "      <th>PurchasePricePerUnit</th>\n",
       "      <th>Quantity</th>\n",
       "      <th>ShipDate</th>\n",
       "      <th>Carrier</th>\n",
       "      <th>ItemSubtotal</th>\n",
       "      <th>Tax</th>\n",
       "      <th>ItemTotal</th>\n",
       "      <th>OrderYear</th>\n",
       "      <th>OrderMonth</th>\n",
       "      <th>OrderDay</th>\n",
       "      <th>OrderDayIndex</th>\n",
       "      <th>OrderDayName</th>\n",
       "    </tr>\n",
       "  </thead>\n",
       "  <tbody>\n",
       "    <tr>\n",
       "      <th>0</th>\n",
       "      <td>1</td>\n",
       "      <td>2008-02-19</td>\n",
       "      <td>BOOKS</td>\n",
       "      <td>unknown</td>\n",
       "      <td>Amazon</td>\n",
       "      <td>29.99</td>\n",
       "      <td>19.79</td>\n",
       "      <td>1</td>\n",
       "      <td>2008-02-25</td>\n",
       "      <td>USPS</td>\n",
       "      <td>19.79</td>\n",
       "      <td>0.00</td>\n",
       "      <td>19.79</td>\n",
       "      <td>2008</td>\n",
       "      <td>2</td>\n",
       "      <td>19</td>\n",
       "      <td>1</td>\n",
       "      <td>Tuesday</td>\n",
       "    </tr>\n",
       "    <tr>\n",
       "      <th>1</th>\n",
       "      <td>2</td>\n",
       "      <td>2008-02-19</td>\n",
       "      <td>BOOKS</td>\n",
       "      <td>unknown</td>\n",
       "      <td>Amazon</td>\n",
       "      <td>27.95</td>\n",
       "      <td>18.45</td>\n",
       "      <td>1</td>\n",
       "      <td>2008-02-25</td>\n",
       "      <td>USPS</td>\n",
       "      <td>18.45</td>\n",
       "      <td>0.00</td>\n",
       "      <td>18.45</td>\n",
       "      <td>2008</td>\n",
       "      <td>2</td>\n",
       "      <td>19</td>\n",
       "      <td>1</td>\n",
       "      <td>Tuesday</td>\n",
       "    </tr>\n",
       "    <tr>\n",
       "      <th>2</th>\n",
       "      <td>3</td>\n",
       "      <td>2008-06-03</td>\n",
       "      <td>BOOKS</td>\n",
       "      <td>unknown</td>\n",
       "      <td>Amazon</td>\n",
       "      <td>34.99</td>\n",
       "      <td>23.09</td>\n",
       "      <td>1</td>\n",
       "      <td>2008-06-04</td>\n",
       "      <td>UPS</td>\n",
       "      <td>23.09</td>\n",
       "      <td>0.00</td>\n",
       "      <td>23.09</td>\n",
       "      <td>2008</td>\n",
       "      <td>6</td>\n",
       "      <td>3</td>\n",
       "      <td>1</td>\n",
       "      <td>Tuesday</td>\n",
       "    </tr>\n",
       "    <tr>\n",
       "      <th>3</th>\n",
       "      <td>4</td>\n",
       "      <td>2008-11-06</td>\n",
       "      <td>HEALTH_BEAUTY</td>\n",
       "      <td>unknown</td>\n",
       "      <td>ThirdParty</td>\n",
       "      <td>6.99</td>\n",
       "      <td>9.39</td>\n",
       "      <td>1</td>\n",
       "      <td>2008-11-07</td>\n",
       "      <td>USPS</td>\n",
       "      <td>9.39</td>\n",
       "      <td>0.00</td>\n",
       "      <td>9.39</td>\n",
       "      <td>2008</td>\n",
       "      <td>11</td>\n",
       "      <td>6</td>\n",
       "      <td>3</td>\n",
       "      <td>Thursday</td>\n",
       "    </tr>\n",
       "    <tr>\n",
       "      <th>4</th>\n",
       "      <td>5</td>\n",
       "      <td>2008-11-06</td>\n",
       "      <td>HEALTH_BEAUTY</td>\n",
       "      <td>unknown</td>\n",
       "      <td>ThirdParty</td>\n",
       "      <td>10.99</td>\n",
       "      <td>7.99</td>\n",
       "      <td>1</td>\n",
       "      <td>2008-11-07</td>\n",
       "      <td>USPS</td>\n",
       "      <td>7.99</td>\n",
       "      <td>0.00</td>\n",
       "      <td>7.99</td>\n",
       "      <td>2008</td>\n",
       "      <td>11</td>\n",
       "      <td>6</td>\n",
       "      <td>3</td>\n",
       "      <td>Thursday</td>\n",
       "    </tr>\n",
       "    <tr>\n",
       "      <th>...</th>\n",
       "      <td>...</td>\n",
       "      <td>...</td>\n",
       "      <td>...</td>\n",
       "      <td>...</td>\n",
       "      <td>...</td>\n",
       "      <td>...</td>\n",
       "      <td>...</td>\n",
       "      <td>...</td>\n",
       "      <td>...</td>\n",
       "      <td>...</td>\n",
       "      <td>...</td>\n",
       "      <td>...</td>\n",
       "      <td>...</td>\n",
       "      <td>...</td>\n",
       "      <td>...</td>\n",
       "      <td>...</td>\n",
       "      <td>...</td>\n",
       "      <td>...</td>\n",
       "    </tr>\n",
       "    <tr>\n",
       "      <th>776</th>\n",
       "      <td>970</td>\n",
       "      <td>2019-12-14</td>\n",
       "      <td>COMPUTER</td>\n",
       "      <td>new</td>\n",
       "      <td>Amazon</td>\n",
       "      <td>44.99</td>\n",
       "      <td>21.88</td>\n",
       "      <td>1</td>\n",
       "      <td>2019-12-15</td>\n",
       "      <td>USPS</td>\n",
       "      <td>21.88</td>\n",
       "      <td>1.45</td>\n",
       "      <td>23.33</td>\n",
       "      <td>2019</td>\n",
       "      <td>12</td>\n",
       "      <td>14</td>\n",
       "      <td>5</td>\n",
       "      <td>Saturday</td>\n",
       "    </tr>\n",
       "    <tr>\n",
       "      <th>777</th>\n",
       "      <td>971</td>\n",
       "      <td>2019-12-18</td>\n",
       "      <td>OTHER</td>\n",
       "      <td>new</td>\n",
       "      <td>ThirdParty</td>\n",
       "      <td>19.99</td>\n",
       "      <td>13.99</td>\n",
       "      <td>1</td>\n",
       "      <td>2019-12-19</td>\n",
       "      <td>AMZN</td>\n",
       "      <td>13.99</td>\n",
       "      <td>0.93</td>\n",
       "      <td>14.92</td>\n",
       "      <td>2019</td>\n",
       "      <td>12</td>\n",
       "      <td>18</td>\n",
       "      <td>2</td>\n",
       "      <td>Wednesday</td>\n",
       "    </tr>\n",
       "    <tr>\n",
       "      <th>778</th>\n",
       "      <td>972</td>\n",
       "      <td>2019-12-18</td>\n",
       "      <td>OTHER</td>\n",
       "      <td>new</td>\n",
       "      <td>ThirdParty</td>\n",
       "      <td>27.00</td>\n",
       "      <td>12.99</td>\n",
       "      <td>1</td>\n",
       "      <td>2019-12-19</td>\n",
       "      <td>AMZN</td>\n",
       "      <td>12.99</td>\n",
       "      <td>0.86</td>\n",
       "      <td>13.85</td>\n",
       "      <td>2019</td>\n",
       "      <td>12</td>\n",
       "      <td>18</td>\n",
       "      <td>2</td>\n",
       "      <td>Wednesday</td>\n",
       "    </tr>\n",
       "    <tr>\n",
       "      <th>779</th>\n",
       "      <td>973</td>\n",
       "      <td>2019-12-19</td>\n",
       "      <td>GIFT_CARD</td>\n",
       "      <td>new</td>\n",
       "      <td>Amazon</td>\n",
       "      <td>50.00</td>\n",
       "      <td>200.00</td>\n",
       "      <td>1</td>\n",
       "      <td>2019-12-19</td>\n",
       "      <td>Other</td>\n",
       "      <td>200.00</td>\n",
       "      <td>0.00</td>\n",
       "      <td>200.00</td>\n",
       "      <td>2019</td>\n",
       "      <td>12</td>\n",
       "      <td>19</td>\n",
       "      <td>3</td>\n",
       "      <td>Thursday</td>\n",
       "    </tr>\n",
       "    <tr>\n",
       "      <th>780</th>\n",
       "      <td>974</td>\n",
       "      <td>2019-12-24</td>\n",
       "      <td>HEALTH_BEAUTY</td>\n",
       "      <td>new</td>\n",
       "      <td>Amazon</td>\n",
       "      <td>24.99</td>\n",
       "      <td>13.59</td>\n",
       "      <td>2</td>\n",
       "      <td>2019-12-26</td>\n",
       "      <td>AMZN</td>\n",
       "      <td>27.18</td>\n",
       "      <td>0.00</td>\n",
       "      <td>27.18</td>\n",
       "      <td>2019</td>\n",
       "      <td>12</td>\n",
       "      <td>24</td>\n",
       "      <td>1</td>\n",
       "      <td>Tuesday</td>\n",
       "    </tr>\n",
       "  </tbody>\n",
       "</table>\n",
       "<p>781 rows × 18 columns</p>\n",
       "</div>"
      ],
      "text/plain": [
       "     OrderID  OrderDate       Category Condition      Seller  \\\n",
       "0          1 2008-02-19          BOOKS   unknown      Amazon   \n",
       "1          2 2008-02-19          BOOKS   unknown      Amazon   \n",
       "2          3 2008-06-03          BOOKS   unknown      Amazon   \n",
       "3          4 2008-11-06  HEALTH_BEAUTY   unknown  ThirdParty   \n",
       "4          5 2008-11-06  HEALTH_BEAUTY   unknown  ThirdParty   \n",
       "..       ...        ...            ...       ...         ...   \n",
       "776      970 2019-12-14       COMPUTER       new      Amazon   \n",
       "777      971 2019-12-18          OTHER       new  ThirdParty   \n",
       "778      972 2019-12-18          OTHER       new  ThirdParty   \n",
       "779      973 2019-12-19      GIFT_CARD       new      Amazon   \n",
       "780      974 2019-12-24  HEALTH_BEAUTY       new      Amazon   \n",
       "\n",
       "     ListPricePerUnit  PurchasePricePerUnit  Quantity   ShipDate Carrier  \\\n",
       "0               29.99                 19.79         1 2008-02-25    USPS   \n",
       "1               27.95                 18.45         1 2008-02-25    USPS   \n",
       "2               34.99                 23.09         1 2008-06-04     UPS   \n",
       "3                6.99                  9.39         1 2008-11-07    USPS   \n",
       "4               10.99                  7.99         1 2008-11-07    USPS   \n",
       "..                ...                   ...       ...        ...     ...   \n",
       "776             44.99                 21.88         1 2019-12-15    USPS   \n",
       "777             19.99                 13.99         1 2019-12-19    AMZN   \n",
       "778             27.00                 12.99         1 2019-12-19    AMZN   \n",
       "779             50.00                200.00         1 2019-12-19   Other   \n",
       "780             24.99                 13.59         2 2019-12-26    AMZN   \n",
       "\n",
       "     ItemSubtotal   Tax  ItemTotal  OrderYear  OrderMonth  OrderDay  \\\n",
       "0           19.79  0.00      19.79       2008           2        19   \n",
       "1           18.45  0.00      18.45       2008           2        19   \n",
       "2           23.09  0.00      23.09       2008           6         3   \n",
       "3            9.39  0.00       9.39       2008          11         6   \n",
       "4            7.99  0.00       7.99       2008          11         6   \n",
       "..            ...   ...        ...        ...         ...       ...   \n",
       "776         21.88  1.45      23.33       2019          12        14   \n",
       "777         13.99  0.93      14.92       2019          12        18   \n",
       "778         12.99  0.86      13.85       2019          12        18   \n",
       "779        200.00  0.00     200.00       2019          12        19   \n",
       "780         27.18  0.00      27.18       2019          12        24   \n",
       "\n",
       "     OrderDayIndex OrderDayName  \n",
       "0                1      Tuesday  \n",
       "1                1      Tuesday  \n",
       "2                1      Tuesday  \n",
       "3                3     Thursday  \n",
       "4                3     Thursday  \n",
       "..             ...          ...  \n",
       "776              5     Saturday  \n",
       "777              2    Wednesday  \n",
       "778              2    Wednesday  \n",
       "779              3     Thursday  \n",
       "780              1      Tuesday  \n",
       "\n",
       "[781 rows x 18 columns]"
      ]
     },
     "execution_count": 5,
     "metadata": {},
     "output_type": "execute_result"
    }
   ],
   "source": [
    "# Create df from SQL\n",
    "\n",
    "df = pd.read_sql(\"SELECT * FROM amazon.purchases_aws\", con=engine, parse_dates = ['OrderDate', 'ShipDate'])\n",
    "df"
   ]
  },
  {
   "cell_type": "markdown",
   "metadata": {
    "papermill": {
     "duration": 0.01577,
     "end_time": "2020-11-08T02:33:40.587337",
     "exception": false,
     "start_time": "2020-11-08T02:33:40.571567",
     "status": "completed"
    },
    "tags": []
   },
   "source": [
    "# Data Analysis"
   ]
  },
  {
   "cell_type": "code",
   "execution_count": 6,
   "metadata": {
    "execution": {
     "iopub.execute_input": "2020-11-08T02:33:40.624717Z",
     "iopub.status.busy": "2020-11-08T02:33:40.623725Z",
     "iopub.status.idle": "2020-11-08T02:33:40.627631Z",
     "shell.execute_reply": "2020-11-08T02:33:40.626832Z"
    },
    "papermill": {
     "duration": 0.023724,
     "end_time": "2020-11-08T02:33:40.627766",
     "exception": false,
     "start_time": "2020-11-08T02:33:40.604042",
     "status": "completed"
    },
    "tags": []
   },
   "outputs": [
    {
     "data": {
      "text/plain": [
       "30357.41"
      ]
     },
     "execution_count": 6,
     "metadata": {},
     "output_type": "execute_result"
    }
   ],
   "source": [
    "# Cumulative total spent from 2008-2019, inclusive\n",
    "\n",
    "TotalSpent = df['ItemTotal'].sum()\n",
    "TotalSpent"
   ]
  },
  {
   "cell_type": "code",
   "execution_count": 7,
   "metadata": {
    "execution": {
     "iopub.execute_input": "2020-11-08T02:33:40.664429Z",
     "iopub.status.busy": "2020-11-08T02:33:40.663549Z",
     "iopub.status.idle": "2020-11-08T02:33:40.667278Z",
     "shell.execute_reply": "2020-11-08T02:33:40.666562Z"
    },
    "papermill": {
     "duration": 0.023183,
     "end_time": "2020-11-08T02:33:40.667503",
     "exception": false,
     "start_time": "2020-11-08T02:33:40.644320",
     "status": "completed"
    },
    "tags": []
   },
   "outputs": [
    {
     "data": {
      "text/plain": [
       "781"
      ]
     },
     "execution_count": 7,
     "metadata": {},
     "output_type": "execute_result"
    }
   ],
   "source": [
    "# Total number of transactions\n",
    "\n",
    "NumTrans = len(df['ItemTotal'])\n",
    "NumTrans"
   ]
  },
  {
   "cell_type": "code",
   "execution_count": 8,
   "metadata": {
    "execution": {
     "iopub.execute_input": "2020-11-08T02:33:40.706273Z",
     "iopub.status.busy": "2020-11-08T02:33:40.705180Z",
     "iopub.status.idle": "2020-11-08T02:33:40.708715Z",
     "shell.execute_reply": "2020-11-08T02:33:40.709466Z"
    },
    "papermill": {
     "duration": 0.02464,
     "end_time": "2020-11-08T02:33:40.709625",
     "exception": false,
     "start_time": "2020-11-08T02:33:40.684985",
     "status": "completed"
    },
    "tags": []
   },
   "outputs": [
    {
     "data": {
      "text/plain": [
       "38.86992317541613"
      ]
     },
     "execution_count": 8,
     "metadata": {},
     "output_type": "execute_result"
    }
   ],
   "source": [
    "# Average spent\n",
    "\n",
    "AvgSpent = TotalSpent/NumTrans\n",
    "AvgSpent"
   ]
  },
  {
   "cell_type": "code",
   "execution_count": 9,
   "metadata": {
    "execution": {
     "iopub.execute_input": "2020-11-08T02:33:40.755260Z",
     "iopub.status.busy": "2020-11-08T02:33:40.754091Z",
     "iopub.status.idle": "2020-11-08T02:33:40.758240Z",
     "shell.execute_reply": "2020-11-08T02:33:40.757527Z"
    },
    "papermill": {
     "duration": 0.030284,
     "end_time": "2020-11-08T02:33:40.758380",
     "exception": false,
     "start_time": "2020-11-08T02:33:40.728096",
     "status": "completed"
    },
    "tags": []
   },
   "outputs": [
    {
     "data": {
      "text/html": [
       "<div>\n",
       "<style scoped>\n",
       "    .dataframe tbody tr th:only-of-type {\n",
       "        vertical-align: middle;\n",
       "    }\n",
       "\n",
       "    .dataframe tbody tr th {\n",
       "        vertical-align: top;\n",
       "    }\n",
       "\n",
       "    .dataframe thead th {\n",
       "        text-align: right;\n",
       "    }\n",
       "</style>\n",
       "<table border=\"1\" class=\"dataframe\">\n",
       "  <thead>\n",
       "    <tr style=\"text-align: right;\">\n",
       "      <th></th>\n",
       "      <th>ItemTotal</th>\n",
       "    </tr>\n",
       "    <tr>\n",
       "      <th>OrderDate</th>\n",
       "      <th></th>\n",
       "    </tr>\n",
       "  </thead>\n",
       "  <tbody>\n",
       "    <tr>\n",
       "      <th>2008-02-19</th>\n",
       "      <td>38.24</td>\n",
       "    </tr>\n",
       "    <tr>\n",
       "      <th>2008-06-03</th>\n",
       "      <td>23.09</td>\n",
       "    </tr>\n",
       "    <tr>\n",
       "      <th>2008-11-06</th>\n",
       "      <td>29.86</td>\n",
       "    </tr>\n",
       "    <tr>\n",
       "      <th>2008-12-13</th>\n",
       "      <td>25.90</td>\n",
       "    </tr>\n",
       "    <tr>\n",
       "      <th>2009-07-18</th>\n",
       "      <td>26.97</td>\n",
       "    </tr>\n",
       "    <tr>\n",
       "      <th>...</th>\n",
       "      <td>...</td>\n",
       "    </tr>\n",
       "    <tr>\n",
       "      <th>2019-12-13</th>\n",
       "      <td>23.45</td>\n",
       "    </tr>\n",
       "    <tr>\n",
       "      <th>2019-12-14</th>\n",
       "      <td>23.33</td>\n",
       "    </tr>\n",
       "    <tr>\n",
       "      <th>2019-12-18</th>\n",
       "      <td>28.77</td>\n",
       "    </tr>\n",
       "    <tr>\n",
       "      <th>2019-12-19</th>\n",
       "      <td>200.00</td>\n",
       "    </tr>\n",
       "    <tr>\n",
       "      <th>2019-12-24</th>\n",
       "      <td>27.18</td>\n",
       "    </tr>\n",
       "  </tbody>\n",
       "</table>\n",
       "<p>445 rows × 1 columns</p>\n",
       "</div>"
      ],
      "text/plain": [
       "            ItemTotal\n",
       "OrderDate            \n",
       "2008-02-19      38.24\n",
       "2008-06-03      23.09\n",
       "2008-11-06      29.86\n",
       "2008-12-13      25.90\n",
       "2009-07-18      26.97\n",
       "...               ...\n",
       "2019-12-13      23.45\n",
       "2019-12-14      23.33\n",
       "2019-12-18      28.77\n",
       "2019-12-19     200.00\n",
       "2019-12-24      27.18\n",
       "\n",
       "[445 rows x 1 columns]"
      ]
     },
     "execution_count": 9,
     "metadata": {},
     "output_type": "execute_result"
    }
   ],
   "source": [
    "# Use groupby to sum purchases by date\n",
    "\n",
    "df_DateTotal = df[['OrderDate', 'ItemTotal']]\n",
    "df_DateTotal = df_DateTotal.groupby('OrderDate')\n",
    "df_DateTotal = df_DateTotal.sum('ItemTotal')\n",
    "df_DateTotal"
   ]
  },
  {
   "cell_type": "code",
   "execution_count": 10,
   "metadata": {
    "execution": {
     "iopub.execute_input": "2020-11-08T02:33:40.828316Z",
     "iopub.status.busy": "2020-11-08T02:33:40.824142Z",
     "iopub.status.idle": "2020-11-08T02:33:40.940088Z",
     "shell.execute_reply": "2020-11-08T02:33:40.941102Z"
    },
    "papermill": {
     "duration": 0.165792,
     "end_time": "2020-11-08T02:33:40.941283",
     "exception": false,
     "start_time": "2020-11-08T02:33:40.775491",
     "status": "completed"
    },
    "scrolled": true,
    "tags": []
   },
   "outputs": [
    {
     "data": {
      "image/png": "[encoded data removed]",
      "text/plain": [
       "<Figure size 432x288 with 1 Axes>"
      ]
     },
     "metadata": {
      "needs_background": "light"
     },
     "output_type": "display_data"
    }
   ],
   "source": [
    "# Plot OrderDate & sum of purchases by date\n",
    "\n",
    "fig, ax = plt.subplots()\n",
    "ax.plot(df_DateTotal.index, df_DateTotal.values)\n",
    "ax.set_xlabel('Order Date')\n",
    "ax.set_ylabel('Item Total')\n",
    "ax.set_title('Daily Purchase Amount')\n",
    "plt.show()\n",
    "#ax.figure.savefig('./img/DailyPurchaseAmount.png', bbox_inches='tight', dpi=150)"
   ]
  },
  {
   "cell_type": "code",
   "execution_count": 11,
   "metadata": {
    "execution": {
     "iopub.execute_input": "2020-11-08T02:33:40.989111Z",
     "iopub.status.busy": "2020-11-08T02:33:40.988253Z",
     "iopub.status.idle": "2020-11-08T02:33:40.991634Z",
     "shell.execute_reply": "2020-11-08T02:33:40.992301Z"
    },
    "papermill": {
     "duration": 0.030734,
     "end_time": "2020-11-08T02:33:40.992452",
     "exception": false,
     "start_time": "2020-11-08T02:33:40.961718",
     "status": "completed"
    },
    "tags": []
   },
   "outputs": [
    {
     "data": {
      "text/html": [
       "<div>\n",
       "<style scoped>\n",
       "    .dataframe tbody tr th:only-of-type {\n",
       "        vertical-align: middle;\n",
       "    }\n",
       "\n",
       "    .dataframe tbody tr th {\n",
       "        vertical-align: top;\n",
       "    }\n",
       "\n",
       "    .dataframe thead th {\n",
       "        text-align: right;\n",
       "    }\n",
       "</style>\n",
       "<table border=\"1\" class=\"dataframe\">\n",
       "  <thead>\n",
       "    <tr style=\"text-align: right;\">\n",
       "      <th></th>\n",
       "      <th>Tax</th>\n",
       "    </tr>\n",
       "    <tr>\n",
       "      <th>OrderDate</th>\n",
       "      <th></th>\n",
       "    </tr>\n",
       "  </thead>\n",
       "  <tbody>\n",
       "    <tr>\n",
       "      <th>2008-02-19</th>\n",
       "      <td>0.00</td>\n",
       "    </tr>\n",
       "    <tr>\n",
       "      <th>2008-06-03</th>\n",
       "      <td>0.00</td>\n",
       "    </tr>\n",
       "    <tr>\n",
       "      <th>2008-11-06</th>\n",
       "      <td>0.00</td>\n",
       "    </tr>\n",
       "    <tr>\n",
       "      <th>2008-12-13</th>\n",
       "      <td>0.00</td>\n",
       "    </tr>\n",
       "    <tr>\n",
       "      <th>2009-07-18</th>\n",
       "      <td>0.00</td>\n",
       "    </tr>\n",
       "    <tr>\n",
       "      <th>...</th>\n",
       "      <td>...</td>\n",
       "    </tr>\n",
       "    <tr>\n",
       "      <th>2019-12-13</th>\n",
       "      <td>1.46</td>\n",
       "    </tr>\n",
       "    <tr>\n",
       "      <th>2019-12-14</th>\n",
       "      <td>1.45</td>\n",
       "    </tr>\n",
       "    <tr>\n",
       "      <th>2019-12-18</th>\n",
       "      <td>1.79</td>\n",
       "    </tr>\n",
       "    <tr>\n",
       "      <th>2019-12-19</th>\n",
       "      <td>0.00</td>\n",
       "    </tr>\n",
       "    <tr>\n",
       "      <th>2019-12-24</th>\n",
       "      <td>0.00</td>\n",
       "    </tr>\n",
       "  </tbody>\n",
       "</table>\n",
       "<p>445 rows × 1 columns</p>\n",
       "</div>"
      ],
      "text/plain": [
       "             Tax\n",
       "OrderDate       \n",
       "2008-02-19  0.00\n",
       "2008-06-03  0.00\n",
       "2008-11-06  0.00\n",
       "2008-12-13  0.00\n",
       "2009-07-18  0.00\n",
       "...          ...\n",
       "2019-12-13  1.46\n",
       "2019-12-14  1.45\n",
       "2019-12-18  1.79\n",
       "2019-12-19  0.00\n",
       "2019-12-24  0.00\n",
       "\n",
       "[445 rows x 1 columns]"
      ]
     },
     "execution_count": 11,
     "metadata": {},
     "output_type": "execute_result"
    }
   ],
   "source": [
    "# Use groupby to sum taxes by date\n",
    "\n",
    "df_DateTax = df[['OrderDate', 'Tax']]\n",
    "df_DateTax = df_DateTax.groupby('OrderDate')\n",
    "df_DateTax = df_DateTax.sum('Tax')\n",
    "df_DateTax"
   ]
  },
  {
   "cell_type": "code",
   "execution_count": 12,
   "metadata": {
    "execution": {
     "iopub.execute_input": "2020-11-08T02:33:41.073131Z",
     "iopub.status.busy": "2020-11-08T02:33:41.071191Z",
     "iopub.status.idle": "2020-11-08T02:33:41.259027Z",
     "shell.execute_reply": "2020-11-08T02:33:41.259783Z"
    },
    "papermill": {
     "duration": 0.247393,
     "end_time": "2020-11-08T02:33:41.259939",
     "exception": false,
     "start_time": "2020-11-08T02:33:41.012546",
     "status": "completed"
    },
    "tags": []
   },
   "outputs": [
    {
     "data": {
      "image/png": "[encoded data removed]",
      "text/plain": [
       "<Figure size 432x288 with 2 Axes>"
      ]
     },
     "metadata": {
      "needs_background": "light"
     },
     "output_type": "display_data"
    }
   ],
   "source": [
    "# Plot OrderDate and ItemTotal and OrderDate and PurchasePricePerUnit\n",
    "\n",
    "fig, ax = plt.subplots(1,2, sharey = True)\n",
    "\n",
    "ax[0].plot(df_DateTotal.index, df_DateTotal.values)\n",
    "ax[1].plot(df_DateTax.index, df_DateTax.values, color = 'r')\n",
    "\n",
    "ax[0].set_xlabel('Order Date')\n",
    "ax[0].set_ylabel('$ Total')\n",
    "ax[1].set_xlabel('Order Date')\n",
    "\n",
    "ax[0].set_title('Daily Purchase Amount')\n",
    "ax[1].set_title('Daily Tax Amount')\n",
    "\n",
    "plt.show()"
   ]
  },
  {
   "cell_type": "code",
   "execution_count": 13,
   "metadata": {
    "execution": {
     "iopub.execute_input": "2020-11-08T02:33:41.306927Z",
     "iopub.status.busy": "2020-11-08T02:33:41.305835Z",
     "iopub.status.idle": "2020-11-08T02:33:41.309383Z",
     "shell.execute_reply": "2020-11-08T02:33:41.310089Z"
    },
    "papermill": {
     "duration": 0.029974,
     "end_time": "2020-11-08T02:33:41.310412",
     "exception": false,
     "start_time": "2020-11-08T02:33:41.280438",
     "status": "completed"
    },
    "tags": []
   },
   "outputs": [
    {
     "name": "stdout",
     "output_type": "stream",
     "text": [
      "OrderYear\n",
      "2008     117.09\n",
      "2009     456.85\n",
      "2010    2421.77\n",
      "2011    7176.93\n",
      "2012    3651.85\n",
      "2013    3689.19\n",
      "2014    2075.99\n",
      "2015    1257.52\n",
      "2016     823.48\n",
      "2017    1392.77\n",
      "2018    2689.12\n",
      "2019    4604.85\n",
      "Name: ItemTotal, dtype: float64\n"
     ]
    }
   ],
   "source": [
    "# The previous graphs contained too much data since they were being plotted for each day. \n",
    "# Grouping will allow the information to be more legible.\n",
    "\n",
    "# Purchases by Year \n",
    "\n",
    "df_OrderYear = df[['OrderDate', 'ItemTotal', 'OrderYear']]\n",
    "df_OrderYear = df_OrderYear.sort_values('OrderDate')\n",
    "df_OrderYear = df_OrderYear.groupby('OrderYear')\n",
    "df_OrderYear = df_OrderYear['ItemTotal'].sum()\n",
    "print(df_OrderYear)"
   ]
  },
  {
   "cell_type": "code",
   "execution_count": 14,
   "metadata": {
    "execution": {
     "iopub.execute_input": "2020-11-08T02:33:41.416393Z",
     "iopub.status.busy": "2020-11-08T02:33:41.415245Z",
     "iopub.status.idle": "2020-11-08T02:33:41.504209Z",
     "shell.execute_reply": "2020-11-08T02:33:41.504915Z"
    },
    "papermill": {
     "duration": 0.17507,
     "end_time": "2020-11-08T02:33:41.505139",
     "exception": false,
     "start_time": "2020-11-08T02:33:41.330069",
     "status": "completed"
    },
    "scrolled": true,
    "tags": []
   },
   "outputs": [
    {
     "data": {
      "image/png": "[encoded data removed]",
      "text/plain": [
       "<Figure size 432x288 with 1 Axes>"
      ]
     },
     "metadata": {
      "needs_background": "light"
     },
     "output_type": "display_data"
    }
   ],
   "source": [
    "fig,ax = plt.subplots()\n",
    "ax.plot(df_OrderYear.index, df_OrderYear.values, marker = 'o')\n",
    "ax.set_xlabel('Year')\n",
    "ax.set_ylabel('$ Amount')\n",
    "ax.set_title('Purchases by Year')\n",
    "plt.show()"
   ]
  },
  {
   "cell_type": "code",
   "execution_count": 15,
   "metadata": {
    "execution": {
     "iopub.execute_input": "2020-11-08T02:33:41.590096Z",
     "iopub.status.busy": "2020-11-08T02:33:41.589240Z",
     "iopub.status.idle": "2020-11-08T02:33:41.697336Z",
     "shell.execute_reply": "2020-11-08T02:33:41.696564Z"
    },
    "papermill": {
     "duration": 0.171179,
     "end_time": "2020-11-08T02:33:41.697475",
     "exception": false,
     "start_time": "2020-11-08T02:33:41.526296",
     "status": "completed"
    },
    "tags": []
   },
   "outputs": [
    {
     "data": {
      "image/png": "[encoded data removed]",
      "text/plain": [
       "<Figure size 432x288 with 1 Axes>"
      ]
     },
     "metadata": {
      "needs_background": "light"
     },
     "output_type": "display_data"
    }
   ],
   "source": [
    "fig,ax = plt.subplots()\n",
    "ax.bar(df_OrderYear.index, df_OrderYear.values)\n",
    "ax.set_xlabel('Year')\n",
    "ax.set_ylabel('$ Amount')\n",
    "ax.set_title('Purchases by Year')\n",
    "plt.xticks([x for x in df_OrderYear.index], rotation = 45)\n",
    "plt.show()\n",
    "#ax.figure.savefig('./img/PurchasesByYear.png', bbox_inches='tight', dpi=150)"
   ]
  },
  {
   "cell_type": "code",
   "execution_count": 16,
   "metadata": {
    "execution": {
     "iopub.execute_input": "2020-11-08T02:33:41.746230Z",
     "iopub.status.busy": "2020-11-08T02:33:41.745312Z",
     "iopub.status.idle": "2020-11-08T02:33:41.750567Z",
     "shell.execute_reply": "2020-11-08T02:33:41.751526Z"
    },
    "papermill": {
     "duration": 0.031297,
     "end_time": "2020-11-08T02:33:41.751676",
     "exception": false,
     "start_time": "2020-11-08T02:33:41.720379",
     "status": "completed"
    },
    "tags": []
   },
   "outputs": [
    {
     "data": {
      "text/plain": [
       "OrderMonth\n",
       "1     1435.93\n",
       "2     3082.08\n",
       "3     4439.17\n",
       "4     1497.22\n",
       "5     2198.31\n",
       "6     2042.64\n",
       "7     3352.54\n",
       "8     3507.65\n",
       "9     1887.06\n",
       "10    2392.95\n",
       "11    2187.99\n",
       "12    2333.87\n",
       "Name: ItemTotal, dtype: float64"
      ]
     },
     "execution_count": 16,
     "metadata": {},
     "output_type": "execute_result"
    }
   ],
   "source": [
    "# Purchases by Month\n",
    "\n",
    "df_OrderMonth = df[['OrderDate', 'ItemTotal', 'OrderMonth']]\n",
    "df_OrderMonth = df_OrderMonth.sort_values('OrderDate')\n",
    "df_OrderMonth = df_OrderMonth.groupby('OrderMonth')\n",
    "df_OrderMonth = df_OrderMonth['ItemTotal'].sum()\n",
    "df_OrderMonth"
   ]
  },
  {
   "cell_type": "code",
   "execution_count": 17,
   "metadata": {
    "execution": {
     "iopub.execute_input": "2020-11-08T02:33:41.808256Z",
     "iopub.status.busy": "2020-11-08T02:33:41.807402Z",
     "iopub.status.idle": "2020-11-08T02:33:41.923744Z",
     "shell.execute_reply": "2020-11-08T02:33:41.924451Z"
    },
    "papermill": {
     "duration": 0.151231,
     "end_time": "2020-11-08T02:33:41.924606",
     "exception": false,
     "start_time": "2020-11-08T02:33:41.773375",
     "status": "completed"
    },
    "tags": []
   },
   "outputs": [
    {
     "data": {
      "image/png": "[encoded data removed]",
      "text/plain": [
       "<Figure size 432x288 with 1 Axes>"
      ]
     },
     "metadata": {
      "needs_background": "light"
     },
     "output_type": "display_data"
    }
   ],
   "source": [
    "fig, ax = plt.subplots()\n",
    "ax.plot(df_OrderMonth.index, df_OrderMonth.values, marker = 'o')\n",
    "ax.set_xlabel('Month')\n",
    "ax.set_ylabel('$ Amount')\n",
    "ax.set_title('Purchases by Month')\n",
    "plt.xticks([x for x in df_OrderMonth.index])\n",
    "plt.show()"
   ]
  },
  {
   "cell_type": "code",
   "execution_count": 18,
   "metadata": {
    "execution": {
     "iopub.execute_input": "2020-11-08T02:33:42.004781Z",
     "iopub.status.busy": "2020-11-08T02:33:42.003781Z",
     "iopub.status.idle": "2020-11-08T02:33:42.097338Z",
     "shell.execute_reply": "2020-11-08T02:33:42.098234Z"
    },
    "papermill": {
     "duration": 0.151127,
     "end_time": "2020-11-08T02:33:42.098467",
     "exception": false,
     "start_time": "2020-11-08T02:33:41.947340",
     "status": "completed"
    },
    "tags": []
   },
   "outputs": [
    {
     "data": {
      "image/png": "[encoded data removed]",
      "text/plain": [
       "<Figure size 432x288 with 1 Axes>"
      ]
     },
     "metadata": {
      "needs_background": "light"
     },
     "output_type": "display_data"
    }
   ],
   "source": [
    "fig, ax = plt.subplots()\n",
    "ax.bar(df_OrderMonth.index, df_OrderMonth.values)\n",
    "ax.set_xlabel('Month')\n",
    "ax.set_ylabel('$ Amount')\n",
    "ax.set_title('Purchases by Month')\n",
    "plt.xticks([x for x in df_OrderMonth.index])\n",
    "plt.show()\n",
    "#ax.figure.savefig('./img/PurchasesByMonth.png', bbox_inches='tight', dpi=150)"
   ]
  },
  {
   "cell_type": "code",
   "execution_count": 19,
   "metadata": {
    "execution": {
     "iopub.execute_input": "2020-11-08T02:33:42.153252Z",
     "iopub.status.busy": "2020-11-08T02:33:42.151747Z",
     "iopub.status.idle": "2020-11-08T02:33:42.156478Z",
     "shell.execute_reply": "2020-11-08T02:33:42.155747Z"
    },
    "papermill": {
     "duration": 0.032967,
     "end_time": "2020-11-08T02:33:42.156674",
     "exception": false,
     "start_time": "2020-11-08T02:33:42.123707",
     "status": "completed"
    },
    "tags": []
   },
   "outputs": [
    {
     "data": {
      "text/plain": [
       "OrderYear\n",
       "2008      9\n",
       "2009     15\n",
       "2010     83\n",
       "2011     96\n",
       "2012     96\n",
       "2013     89\n",
       "2014     48\n",
       "2015     59\n",
       "2016     36\n",
       "2017     68\n",
       "2018     69\n",
       "2019    113\n",
       "Name: ItemTotal, dtype: int64"
      ]
     },
     "execution_count": 19,
     "metadata": {},
     "output_type": "execute_result"
    }
   ],
   "source": [
    "# Transactions by Year\n",
    "\n",
    "df_TransYear = df[['OrderDate', 'ItemTotal', 'OrderYear']]\n",
    "df_TransYear = df_TransYear.groupby('OrderYear')\n",
    "df_TransYear = df_TransYear['ItemTotal'].size()\n",
    "df_TransYear"
   ]
  },
  {
   "cell_type": "code",
   "execution_count": 20,
   "metadata": {
    "execution": {
     "iopub.execute_input": "2020-11-08T02:33:42.221556Z",
     "iopub.status.busy": "2020-11-08T02:33:42.215443Z",
     "iopub.status.idle": "2020-11-08T02:33:42.308663Z",
     "shell.execute_reply": "2020-11-08T02:33:42.309358Z"
    },
    "papermill": {
     "duration": 0.129988,
     "end_time": "2020-11-08T02:33:42.309578",
     "exception": false,
     "start_time": "2020-11-08T02:33:42.179590",
     "status": "completed"
    },
    "tags": []
   },
   "outputs": [
    {
     "data": {
      "image/png": "[encoded data removed]",
      "text/plain": [
       "<Figure size 432x288 with 1 Axes>"
      ]
     },
     "metadata": {
      "needs_background": "light"
     },
     "output_type": "display_data"
    }
   ],
   "source": [
    "fig,ax = plt.subplots()\n",
    "ax.plot(df_TransYear.index, df_TransYear.values, marker = 'o')\n",
    "ax.set_xlabel('Year')\n",
    "ax.set_ylabel('Transactions')\n",
    "ax.set_title('Transactions by Year')\n",
    "plt.show()\n",
    "#ax.figure.savefig('./img/TransactionsByYear.png', bbox_inches='tight', dpi=150)"
   ]
  },
  {
   "cell_type": "code",
   "execution_count": 21,
   "metadata": {
    "execution": {
     "iopub.execute_input": "2020-11-08T02:33:42.365379Z",
     "iopub.status.busy": "2020-11-08T02:33:42.364186Z",
     "iopub.status.idle": "2020-11-08T02:33:42.368412Z",
     "shell.execute_reply": "2020-11-08T02:33:42.367583Z"
    },
    "papermill": {
     "duration": 0.034653,
     "end_time": "2020-11-08T02:33:42.368718",
     "exception": false,
     "start_time": "2020-11-08T02:33:42.334065",
     "status": "completed"
    },
    "tags": []
   },
   "outputs": [
    {
     "data": {
      "text/plain": [
       "Seller\n",
       "False    329\n",
       "True     452\n",
       "dtype: int64"
      ]
     },
     "execution_count": 21,
     "metadata": {},
     "output_type": "execute_result"
    }
   ],
   "source": [
    "# Transactions by Seller\n",
    "\n",
    "df_TransSeller = df[['Seller']]\n",
    "df_TransSeller = df_TransSeller.groupby(df_TransSeller['Seller'] == 'Amazon')\n",
    "df_TransSeller = df_TransSeller.size()\n",
    "df_TransSeller"
   ]
  },
  {
   "cell_type": "code",
   "execution_count": 22,
   "metadata": {
    "execution": {
     "iopub.execute_input": "2020-11-08T02:33:42.438876Z",
     "iopub.status.busy": "2020-11-08T02:33:42.438004Z",
     "iopub.status.idle": "2020-11-08T02:33:42.485415Z",
     "shell.execute_reply": "2020-11-08T02:33:42.486180Z"
    },
    "papermill": {
     "duration": 0.092794,
     "end_time": "2020-11-08T02:33:42.486337",
     "exception": false,
     "start_time": "2020-11-08T02:33:42.393543",
     "status": "completed"
    },
    "tags": []
   },
   "outputs": [
    {
     "data": {
      "image/png": "[encoded data removed]",
      "text/plain": [
       "<Figure size 432x288 with 1 Axes>"
      ]
     },
     "metadata": {},
     "output_type": "display_data"
    }
   ],
   "source": [
    "fig,ax = plt.subplots()\n",
    "ax.pie(df_TransSeller.values, labels = ['Third Party', 'Amazon'], autopct = '%1.1f%%')\n",
    "ax.set_title('Transactions by Seller')\n",
    "ax.axis('equal')\n",
    "plt.show()"
   ]
  },
  {
   "cell_type": "code",
   "execution_count": 23,
   "metadata": {
    "execution": {
     "iopub.execute_input": "2020-11-08T02:33:42.557103Z",
     "iopub.status.busy": "2020-11-08T02:33:42.553628Z",
     "iopub.status.idle": "2020-11-08T02:33:42.622339Z",
     "shell.execute_reply": "2020-11-08T02:33:42.623025Z"
    },
    "papermill": {
     "duration": 0.111727,
     "end_time": "2020-11-08T02:33:42.623242",
     "exception": false,
     "start_time": "2020-11-08T02:33:42.511515",
     "status": "completed"
    },
    "tags": []
   },
   "outputs": [
    {
     "name": "stderr",
     "output_type": "stream",
     "text": [
      "<ipython-input-23-b795d8081a5c>:3: UserWarning: You have mixed positional and keyword arguments, some input may be discarded.\n",
      "  ax.legend(\n"
     ]
    },
    {
     "data": {
      "image/png": "[encoded data removed]",
      "text/plain": [
       "<Figure size 432x288 with 1 Axes>"
      ]
     },
     "metadata": {},
     "output_type": "display_data"
    }
   ],
   "source": [
    "fig, ax = plt.subplots()\n",
    "ax.pie(df_TransSeller.values, autopct = '%1.1f%%')\n",
    "ax.legend(\n",
    "    df_TransSeller.index,\n",
    "    title = 'Seller',\n",
    "    labels = ['Third Party', 'Amazon'],\n",
    "    loc = 'center left',\n",
    "    bbox_to_anchor = (1,0,0.5,1)\n",
    ")\n",
    "ax.set_title('Transactions by Seller')\n",
    "ax.axis('equal')\n",
    "plt.show()\n",
    "#ax.figure.savefig('./img/TransactionsBySeller.png', bbox_inches='tight', dpi=150)"
   ]
  },
  {
   "cell_type": "code",
   "execution_count": 24,
   "metadata": {
    "execution": {
     "iopub.execute_input": "2020-11-08T02:33:42.685177Z",
     "iopub.status.busy": "2020-11-08T02:33:42.684147Z",
     "iopub.status.idle": "2020-11-08T02:33:42.688043Z",
     "shell.execute_reply": "2020-11-08T02:33:42.688791Z"
    },
    "papermill": {
     "duration": 0.039128,
     "end_time": "2020-11-08T02:33:42.688950",
     "exception": false,
     "start_time": "2020-11-08T02:33:42.649822",
     "status": "completed"
    },
    "tags": []
   },
   "outputs": [
    {
     "data": {
      "text/plain": [
       "Seller\n",
       "False     7575.08\n",
       "True     22782.33\n",
       "Name: ItemTotal, dtype: float64"
      ]
     },
     "execution_count": 24,
     "metadata": {},
     "output_type": "execute_result"
    }
   ],
   "source": [
    "# Purchases by Seller\n",
    "\n",
    "df_PurchasesSeller = df[['Seller', 'ItemTotal']]\n",
    "df_PurchasesSeller = df_PurchasesSeller.groupby(df_PurchasesSeller['Seller'] == 'Amazon')\n",
    "df_PurchasesSeller = df_PurchasesSeller['ItemTotal'].sum()\n",
    "df_PurchasesSeller"
   ]
  },
  {
   "cell_type": "code",
   "execution_count": 25,
   "metadata": {
    "execution": {
     "iopub.execute_input": "2020-11-08T02:33:42.760450Z",
     "iopub.status.busy": "2020-11-08T02:33:42.755715Z",
     "iopub.status.idle": "2020-11-08T02:33:42.831536Z",
     "shell.execute_reply": "2020-11-08T02:33:42.832390Z"
    },
    "papermill": {
     "duration": 0.116951,
     "end_time": "2020-11-08T02:33:42.832610",
     "exception": false,
     "start_time": "2020-11-08T02:33:42.715659",
     "status": "completed"
    },
    "tags": []
   },
   "outputs": [
    {
     "name": "stderr",
     "output_type": "stream",
     "text": [
      "<ipython-input-25-ca4d37f56fb3>:3: UserWarning: You have mixed positional and keyword arguments, some input may be discarded.\n",
      "  ax.legend(\n"
     ]
    },
    {
     "data": {
      "image/png": "[encoded data removed]",
      "text/plain": [
       "<Figure size 432x288 with 1 Axes>"
      ]
     },
     "metadata": {},
     "output_type": "display_data"
    }
   ],
   "source": [
    "fig,ax = plt.subplots()\n",
    "ax.pie(df_PurchasesSeller.values, autopct = '%1.1f%%')\n",
    "ax.legend(\n",
    "    df_PurchasesSeller.index,\n",
    "    title = 'Seller',\n",
    "    labels = ['Third Party', 'Amazon'],\n",
    "    loc = 'center left',\n",
    "    bbox_to_anchor = (1,0,0.5,1)    \n",
    ")\n",
    "ax.set_title('Purchases by Seller')\n",
    "ax.axis('equal')\n",
    "plt.show()\n",
    "#ax.figure.savefig('./img/PurchasesBySeller.png', bbox_inches='tight', dpi=150)"
   ]
  },
  {
   "cell_type": "code",
   "execution_count": 26,
   "metadata": {
    "execution": {
     "iopub.execute_input": "2020-11-08T02:33:42.894877Z",
     "iopub.status.busy": "2020-11-08T02:33:42.892865Z",
     "iopub.status.idle": "2020-11-08T02:33:42.897628Z",
     "shell.execute_reply": "2020-11-08T02:33:42.898348Z"
    },
    "papermill": {
     "duration": 0.037364,
     "end_time": "2020-11-08T02:33:42.898691",
     "exception": false,
     "start_time": "2020-11-08T02:33:42.861327",
     "status": "completed"
    },
    "tags": []
   },
   "outputs": [
    {
     "data": {
      "text/plain": [
       "Category\n",
       "UNKNOWN            2092.30\n",
       "TOOLS               533.80\n",
       "SPORTS_OUTDOOR      831.09\n",
       "OTHER               842.15\n",
       "OFFICE              504.44\n",
       "HOME               2215.82\n",
       "HEALTH_BEAUTY      3059.04\n",
       "GROCERY             481.91\n",
       "GIFT_CARD           638.92\n",
       "ENTERTAINMENT        61.16\n",
       "ELECTRONICS        4208.20\n",
       "COMPUTER          10519.35\n",
       "BOOKS              1519.07\n",
       "APPAREL            2850.16\n",
       "Name: ItemTotal, dtype: float64"
      ]
     },
     "execution_count": 26,
     "metadata": {},
     "output_type": "execute_result"
    }
   ],
   "source": [
    "# Purchases by Category\n",
    "# Note: it is necessary to sort by reverse in the df so the plot can be arranged alphabetically\n",
    "# from top to bottom\n",
    "\n",
    "df_CategoryTotal = df[['Category', 'ItemTotal']]\n",
    "df_CategoryTotal = df_CategoryTotal.groupby('Category')\n",
    "df_CategoryTotal = df_CategoryTotal['ItemTotal'].sum()\n",
    "df_CategoryTotal = df_CategoryTotal.sort_index(ascending = False)\n",
    "df_CategoryTotal"
   ]
  },
  {
   "cell_type": "code",
   "execution_count": 27,
   "metadata": {
    "execution": {
     "iopub.execute_input": "2020-11-08T02:33:42.994595Z",
     "iopub.status.busy": "2020-11-08T02:33:42.993730Z",
     "iopub.status.idle": "2020-11-08T02:33:43.107995Z",
     "shell.execute_reply": "2020-11-08T02:33:43.108706Z"
    },
    "papermill": {
     "duration": 0.182244,
     "end_time": "2020-11-08T02:33:43.108864",
     "exception": false,
     "start_time": "2020-11-08T02:33:42.926620",
     "status": "completed"
    },
    "tags": []
   },
   "outputs": [
    {
     "data": {
      "image/png": "[encoded data removed]",
      "text/plain": [
       "<Figure size 432x288 with 1 Axes>"
      ]
     },
     "metadata": {
      "needs_background": "light"
     },
     "output_type": "display_data"
    }
   ],
   "source": [
    "# Plot purchases by category\n",
    "\n",
    "fig,ax = plt.subplots()\n",
    "ax.barh(df_CategoryTotal.index, df_CategoryTotal.values)\n",
    "ax.set_xlabel('$ Amount')\n",
    "ax.set_ylabel('Category')\n",
    "ax.set_title('Purchases by Category')\n",
    "plt.show()\n",
    "#ax.figure.savefig('./img/PurchasesByCategory.png', bbox_inches='tight', dpi=150)"
   ]
  },
  {
   "cell_type": "code",
   "execution_count": 28,
   "metadata": {
    "execution": {
     "iopub.execute_input": "2020-11-08T02:33:43.174796Z",
     "iopub.status.busy": "2020-11-08T02:33:43.173952Z",
     "iopub.status.idle": "2020-11-08T02:33:43.182363Z",
     "shell.execute_reply": "2020-11-08T02:33:43.183055Z"
    },
    "papermill": {
     "duration": 0.044331,
     "end_time": "2020-11-08T02:33:43.183208",
     "exception": false,
     "start_time": "2020-11-08T02:33:43.138877",
     "status": "completed"
    },
    "tags": []
   },
   "outputs": [
    {
     "data": {
      "text/html": [
       "<div>\n",
       "<style scoped>\n",
       "    .dataframe tbody tr th:only-of-type {\n",
       "        vertical-align: middle;\n",
       "    }\n",
       "\n",
       "    .dataframe tbody tr th {\n",
       "        vertical-align: top;\n",
       "    }\n",
       "\n",
       "    .dataframe thead th {\n",
       "        text-align: right;\n",
       "    }\n",
       "</style>\n",
       "<table border=\"1\" class=\"dataframe\">\n",
       "  <thead>\n",
       "    <tr style=\"text-align: right;\">\n",
       "      <th></th>\n",
       "      <th>Category</th>\n",
       "      <th>ItemTotal</th>\n",
       "      <th>Share</th>\n",
       "    </tr>\n",
       "  </thead>\n",
       "  <tbody>\n",
       "    <tr>\n",
       "      <th>13</th>\n",
       "      <td>UNKNOWN</td>\n",
       "      <td>2092.30</td>\n",
       "      <td>6.892222</td>\n",
       "    </tr>\n",
       "    <tr>\n",
       "      <th>12</th>\n",
       "      <td>TOOLS</td>\n",
       "      <td>533.80</td>\n",
       "      <td>1.758385</td>\n",
       "    </tr>\n",
       "    <tr>\n",
       "      <th>11</th>\n",
       "      <td>SPORTS_OUTDOOR</td>\n",
       "      <td>831.09</td>\n",
       "      <td>2.737684</td>\n",
       "    </tr>\n",
       "    <tr>\n",
       "      <th>10</th>\n",
       "      <td>OTHER</td>\n",
       "      <td>842.15</td>\n",
       "      <td>2.774117</td>\n",
       "    </tr>\n",
       "    <tr>\n",
       "      <th>9</th>\n",
       "      <td>OFFICE</td>\n",
       "      <td>504.44</td>\n",
       "      <td>1.661670</td>\n",
       "    </tr>\n",
       "    <tr>\n",
       "      <th>8</th>\n",
       "      <td>HOME</td>\n",
       "      <td>2215.82</td>\n",
       "      <td>7.299108</td>\n",
       "    </tr>\n",
       "    <tr>\n",
       "      <th>7</th>\n",
       "      <td>HEALTH_BEAUTY</td>\n",
       "      <td>3059.04</td>\n",
       "      <td>10.076749</td>\n",
       "    </tr>\n",
       "    <tr>\n",
       "      <th>6</th>\n",
       "      <td>GROCERY</td>\n",
       "      <td>481.91</td>\n",
       "      <td>1.587454</td>\n",
       "    </tr>\n",
       "    <tr>\n",
       "      <th>5</th>\n",
       "      <td>GIFT_CARD</td>\n",
       "      <td>638.92</td>\n",
       "      <td>2.104659</td>\n",
       "    </tr>\n",
       "    <tr>\n",
       "      <th>4</th>\n",
       "      <td>ENTERTAINMENT</td>\n",
       "      <td>61.16</td>\n",
       "      <td>0.201466</td>\n",
       "    </tr>\n",
       "    <tr>\n",
       "      <th>3</th>\n",
       "      <td>ELECTRONICS</td>\n",
       "      <td>4208.20</td>\n",
       "      <td>13.862184</td>\n",
       "    </tr>\n",
       "    <tr>\n",
       "      <th>2</th>\n",
       "      <td>COMPUTER</td>\n",
       "      <td>10519.35</td>\n",
       "      <td>34.651672</td>\n",
       "    </tr>\n",
       "    <tr>\n",
       "      <th>1</th>\n",
       "      <td>BOOKS</td>\n",
       "      <td>1519.07</td>\n",
       "      <td>5.003951</td>\n",
       "    </tr>\n",
       "    <tr>\n",
       "      <th>0</th>\n",
       "      <td>APPAREL</td>\n",
       "      <td>2850.16</td>\n",
       "      <td>9.388680</td>\n",
       "    </tr>\n",
       "  </tbody>\n",
       "</table>\n",
       "</div>"
      ],
      "text/plain": [
       "          Category  ItemTotal      Share\n",
       "13         UNKNOWN    2092.30   6.892222\n",
       "12           TOOLS     533.80   1.758385\n",
       "11  SPORTS_OUTDOOR     831.09   2.737684\n",
       "10           OTHER     842.15   2.774117\n",
       "9           OFFICE     504.44   1.661670\n",
       "8             HOME    2215.82   7.299108\n",
       "7    HEALTH_BEAUTY    3059.04  10.076749\n",
       "6          GROCERY     481.91   1.587454\n",
       "5        GIFT_CARD     638.92   2.104659\n",
       "4    ENTERTAINMENT      61.16   0.201466\n",
       "3      ELECTRONICS    4208.20  13.862184\n",
       "2         COMPUTER   10519.35  34.651672\n",
       "1            BOOKS    1519.07   5.003951\n",
       "0          APPAREL    2850.16   9.388680"
      ]
     },
     "execution_count": 28,
     "metadata": {},
     "output_type": "execute_result"
    }
   ],
   "source": [
    "# Purchases by category share\n",
    "\n",
    "df_CategoryShare = df[['Category', 'ItemTotal']]\n",
    "df_CategoryShare = df_CategoryShare.groupby('Category', as_index = False)\n",
    "df_CategoryShare = df_CategoryShare['ItemTotal'].sum()\n",
    "df_CategoryShare['Share'] = df_CategoryShare['ItemTotal'].div(df_CategoryShare['ItemTotal'].sum())*100\n",
    "df_CategoryShare = df_CategoryShare.sort_values('Category', ascending = False)\n",
    "df_CategoryShare"
   ]
  },
  {
   "cell_type": "code",
   "execution_count": 29,
   "metadata": {
    "execution": {
     "iopub.execute_input": "2020-11-08T02:33:43.275877Z",
     "iopub.status.busy": "2020-11-08T02:33:43.265841Z",
     "iopub.status.idle": "2020-11-08T02:33:43.400573Z",
     "shell.execute_reply": "2020-11-08T02:33:43.401287Z"
    },
    "papermill": {
     "duration": 0.187703,
     "end_time": "2020-11-08T02:33:43.401561",
     "exception": false,
     "start_time": "2020-11-08T02:33:43.213858",
     "status": "completed"
    },
    "tags": []
   },
   "outputs": [
    {
     "data": {
      "image/png": "[encoded data removed]",
      "text/plain": [
       "<Figure size 432x288 with 1 Axes>"
      ]
     },
     "metadata": {
      "needs_background": "light"
     },
     "output_type": "display_data"
    }
   ],
   "source": [
    "# Plot purchases by category share\n",
    "\n",
    "fig,ax = plt.subplots()\n",
    "ax.barh(df_CategoryShare['Category'],df_CategoryShare['Share'])\n",
    "ax.set_xlabel('Percent')\n",
    "ax.set_ylabel('Category')\n",
    "ax.set_title('Purchases by Category Share')\n",
    "plt.show()\n",
    "#ax.figure.savefig('./img/PurchasesByCategoryShare.png', bbox_inches='tight', dpi=150)"
   ]
  },
  {
   "cell_type": "code",
   "execution_count": 30,
   "metadata": {
    "execution": {
     "iopub.execute_input": "2020-11-08T02:33:43.473220Z",
     "iopub.status.busy": "2020-11-08T02:33:43.471842Z",
     "iopub.status.idle": "2020-11-08T02:33:43.477001Z",
     "shell.execute_reply": "2020-11-08T02:33:43.476195Z"
    },
    "papermill": {
     "duration": 0.045427,
     "end_time": "2020-11-08T02:33:43.477211",
     "exception": false,
     "start_time": "2020-11-08T02:33:43.431784",
     "status": "completed"
    },
    "tags": []
   },
   "outputs": [
    {
     "data": {
      "text/html": [
       "<div>\n",
       "<style scoped>\n",
       "    .dataframe tbody tr th:only-of-type {\n",
       "        vertical-align: middle;\n",
       "    }\n",
       "\n",
       "    .dataframe tbody tr th {\n",
       "        vertical-align: top;\n",
       "    }\n",
       "\n",
       "    .dataframe thead th {\n",
       "        text-align: right;\n",
       "    }\n",
       "</style>\n",
       "<table border=\"1\" class=\"dataframe\">\n",
       "  <thead>\n",
       "    <tr style=\"text-align: right;\">\n",
       "      <th></th>\n",
       "      <th>OrderDayName</th>\n",
       "      <th>OrderDayIndex</th>\n",
       "      <th>ItemTotal</th>\n",
       "    </tr>\n",
       "  </thead>\n",
       "  <tbody>\n",
       "    <tr>\n",
       "      <th>1</th>\n",
       "      <td>Monday</td>\n",
       "      <td>0</td>\n",
       "      <td>6787.06</td>\n",
       "    </tr>\n",
       "    <tr>\n",
       "      <th>5</th>\n",
       "      <td>Tuesday</td>\n",
       "      <td>1</td>\n",
       "      <td>4378.23</td>\n",
       "    </tr>\n",
       "    <tr>\n",
       "      <th>6</th>\n",
       "      <td>Wednesday</td>\n",
       "      <td>2</td>\n",
       "      <td>3476.16</td>\n",
       "    </tr>\n",
       "    <tr>\n",
       "      <th>4</th>\n",
       "      <td>Thursday</td>\n",
       "      <td>3</td>\n",
       "      <td>4260.84</td>\n",
       "    </tr>\n",
       "    <tr>\n",
       "      <th>0</th>\n",
       "      <td>Friday</td>\n",
       "      <td>4</td>\n",
       "      <td>4073.42</td>\n",
       "    </tr>\n",
       "    <tr>\n",
       "      <th>2</th>\n",
       "      <td>Saturday</td>\n",
       "      <td>5</td>\n",
       "      <td>2965.26</td>\n",
       "    </tr>\n",
       "    <tr>\n",
       "      <th>3</th>\n",
       "      <td>Sunday</td>\n",
       "      <td>6</td>\n",
       "      <td>4416.44</td>\n",
       "    </tr>\n",
       "  </tbody>\n",
       "</table>\n",
       "</div>"
      ],
      "text/plain": [
       "  OrderDayName  OrderDayIndex  ItemTotal\n",
       "1       Monday              0    6787.06\n",
       "5      Tuesday              1    4378.23\n",
       "6    Wednesday              2    3476.16\n",
       "4     Thursday              3    4260.84\n",
       "0       Friday              4    4073.42\n",
       "2     Saturday              5    2965.26\n",
       "3       Sunday              6    4416.44"
      ]
     },
     "execution_count": 30,
     "metadata": {},
     "output_type": "execute_result"
    }
   ],
   "source": [
    "# Purchases by day of week\n",
    "\n",
    "df_DayPur = df[['OrderDayIndex','OrderDayName','ItemTotal']]\n",
    "df_DayPur = df_DayPur.groupby(['OrderDayName','OrderDayIndex'], as_index = False)\n",
    "df_DayPur = df_DayPur['ItemTotal'].sum()\n",
    "df_DayPur = df_DayPur.sort_values('OrderDayIndex')\n",
    "df_DayPur"
   ]
  },
  {
   "cell_type": "code",
   "execution_count": 31,
   "metadata": {
    "execution": {
     "iopub.execute_input": "2020-11-08T02:33:43.574841Z",
     "iopub.status.busy": "2020-11-08T02:33:43.573461Z",
     "iopub.status.idle": "2020-11-08T02:33:43.667849Z",
     "shell.execute_reply": "2020-11-08T02:33:43.668739Z"
    },
    "papermill": {
     "duration": 0.161118,
     "end_time": "2020-11-08T02:33:43.668904",
     "exception": false,
     "start_time": "2020-11-08T02:33:43.507786",
     "status": "completed"
    },
    "tags": []
   },
   "outputs": [
    {
     "data": {
      "image/png": "[encoded data removed]",
      "text/plain": [
       "<Figure size 432x288 with 1 Axes>"
      ]
     },
     "metadata": {
      "needs_background": "light"
     },
     "output_type": "display_data"
    }
   ],
   "source": [
    "# Plot purchases by day of week\n",
    "\n",
    "fig,ax = plt.subplots()\n",
    "ax.bar(df_DayPur['OrderDayName'],df_DayPur['ItemTotal'])\n",
    "ax.set_xlabel('Day')\n",
    "ax.set_ylabel('$ Amount')\n",
    "ax.set_title('Purchases by Day')\n",
    "plt.xticks(rotation = 90)\n",
    "plt.show()\n",
    "#ax.figure.savefig('./img/PurchasesByDay.png', bbox_inches='tight', dpi=150)"
   ]
  },
  {
   "cell_type": "code",
   "execution_count": 32,
   "metadata": {
    "execution": {
     "iopub.execute_input": "2020-11-08T02:33:43.741159Z",
     "iopub.status.busy": "2020-11-08T02:33:43.740293Z",
     "iopub.status.idle": "2020-11-08T02:33:43.743837Z",
     "shell.execute_reply": "2020-11-08T02:33:43.744610Z"
    },
    "papermill": {
     "duration": 0.04451,
     "end_time": "2020-11-08T02:33:43.744775",
     "exception": false,
     "start_time": "2020-11-08T02:33:43.700265",
     "status": "completed"
    },
    "tags": []
   },
   "outputs": [
    {
     "data": {
      "text/html": [
       "<div>\n",
       "<style scoped>\n",
       "    .dataframe tbody tr th:only-of-type {\n",
       "        vertical-align: middle;\n",
       "    }\n",
       "\n",
       "    .dataframe tbody tr th {\n",
       "        vertical-align: top;\n",
       "    }\n",
       "\n",
       "    .dataframe thead th {\n",
       "        text-align: right;\n",
       "    }\n",
       "</style>\n",
       "<table border=\"1\" class=\"dataframe\">\n",
       "  <thead>\n",
       "    <tr style=\"text-align: right;\">\n",
       "      <th></th>\n",
       "      <th>OrderYear</th>\n",
       "      <th>ItemTotal</th>\n",
       "    </tr>\n",
       "  </thead>\n",
       "  <tbody>\n",
       "    <tr>\n",
       "      <th>0</th>\n",
       "      <td>2008</td>\n",
       "      <td>117.09</td>\n",
       "    </tr>\n",
       "    <tr>\n",
       "      <th>1</th>\n",
       "      <td>2009</td>\n",
       "      <td>456.85</td>\n",
       "    </tr>\n",
       "    <tr>\n",
       "      <th>2</th>\n",
       "      <td>2010</td>\n",
       "      <td>2421.77</td>\n",
       "    </tr>\n",
       "    <tr>\n",
       "      <th>3</th>\n",
       "      <td>2011</td>\n",
       "      <td>7176.93</td>\n",
       "    </tr>\n",
       "    <tr>\n",
       "      <th>4</th>\n",
       "      <td>2012</td>\n",
       "      <td>3651.85</td>\n",
       "    </tr>\n",
       "    <tr>\n",
       "      <th>5</th>\n",
       "      <td>2013</td>\n",
       "      <td>3689.19</td>\n",
       "    </tr>\n",
       "    <tr>\n",
       "      <th>6</th>\n",
       "      <td>2014</td>\n",
       "      <td>2075.99</td>\n",
       "    </tr>\n",
       "    <tr>\n",
       "      <th>7</th>\n",
       "      <td>2015</td>\n",
       "      <td>1257.52</td>\n",
       "    </tr>\n",
       "    <tr>\n",
       "      <th>8</th>\n",
       "      <td>2016</td>\n",
       "      <td>823.48</td>\n",
       "    </tr>\n",
       "    <tr>\n",
       "      <th>9</th>\n",
       "      <td>2017</td>\n",
       "      <td>1392.77</td>\n",
       "    </tr>\n",
       "    <tr>\n",
       "      <th>10</th>\n",
       "      <td>2018</td>\n",
       "      <td>2689.12</td>\n",
       "    </tr>\n",
       "    <tr>\n",
       "      <th>11</th>\n",
       "      <td>2019</td>\n",
       "      <td>4604.85</td>\n",
       "    </tr>\n",
       "  </tbody>\n",
       "</table>\n",
       "</div>"
      ],
      "text/plain": [
       "    OrderYear  ItemTotal\n",
       "0        2008     117.09\n",
       "1        2009     456.85\n",
       "2        2010    2421.77\n",
       "3        2011    7176.93\n",
       "4        2012    3651.85\n",
       "5        2013    3689.19\n",
       "6        2014    2075.99\n",
       "7        2015    1257.52\n",
       "8        2016     823.48\n",
       "9        2017    1392.77\n",
       "10       2018    2689.12\n",
       "11       2019    4604.85"
      ]
     },
     "execution_count": 32,
     "metadata": {},
     "output_type": "execute_result"
    }
   ],
   "source": [
    "# Avg transaction value by year\n",
    "\n",
    "df_YearAvgTrans = df[['OrderYear','ItemTotal']]\n",
    "df_YearAvgTrans = df_YearAvgTrans.groupby(['OrderYear'], as_index = False)\n",
    "df_YearAvgTrans = df_YearAvgTrans['ItemTotal'].sum()\n",
    "df_YearAvgTrans"
   ]
  },
  {
   "cell_type": "code",
   "execution_count": 33,
   "metadata": {
    "execution": {
     "iopub.execute_input": "2020-11-08T02:33:43.908831Z",
     "iopub.status.busy": "2020-11-08T02:33:43.907705Z",
     "iopub.status.idle": "2020-11-08T02:33:43.911338Z",
     "shell.execute_reply": "2020-11-08T02:33:43.912187Z"
    },
    "papermill": {
     "duration": 0.053006,
     "end_time": "2020-11-08T02:33:43.912400",
     "exception": false,
     "start_time": "2020-11-08T02:33:43.859394",
     "status": "completed"
    },
    "tags": []
   },
   "outputs": [
    {
     "data": {
      "text/plain": [
       "OrderYear\n",
       "2008      9\n",
       "2009     15\n",
       "2010     83\n",
       "2011     96\n",
       "2012     96\n",
       "2013     89\n",
       "2014     48\n",
       "2015     59\n",
       "2016     36\n",
       "2017     68\n",
       "2018     69\n",
       "2019    113\n",
       "dtype: int64"
      ]
     },
     "execution_count": 33,
     "metadata": {},
     "output_type": "execute_result"
    }
   ],
   "source": [
    "df_NumTransYear = df[['OrderYear', 'OrderID']].groupby('OrderYear').size()\n",
    "df_NumTransYear"
   ]
  },
  {
   "cell_type": "code",
   "execution_count": 34,
   "metadata": {
    "execution": {
     "iopub.execute_input": "2020-11-08T02:33:43.987293Z",
     "iopub.status.busy": "2020-11-08T02:33:43.986299Z",
     "iopub.status.idle": "2020-11-08T02:33:43.989798Z",
     "shell.execute_reply": "2020-11-08T02:33:43.990520Z"
    },
    "papermill": {
     "duration": 0.043925,
     "end_time": "2020-11-08T02:33:43.990683",
     "exception": false,
     "start_time": "2020-11-08T02:33:43.946758",
     "status": "completed"
    },
    "tags": []
   },
   "outputs": [
    {
     "data": {
      "text/html": [
       "<div>\n",
       "<style scoped>\n",
       "    .dataframe tbody tr th:only-of-type {\n",
       "        vertical-align: middle;\n",
       "    }\n",
       "\n",
       "    .dataframe tbody tr th {\n",
       "        vertical-align: top;\n",
       "    }\n",
       "\n",
       "    .dataframe thead th {\n",
       "        text-align: right;\n",
       "    }\n",
       "</style>\n",
       "<table border=\"1\" class=\"dataframe\">\n",
       "  <thead>\n",
       "    <tr style=\"text-align: right;\">\n",
       "      <th></th>\n",
       "      <th>OrderYear</th>\n",
       "      <th>ItemTotal</th>\n",
       "      <th>Trans</th>\n",
       "    </tr>\n",
       "  </thead>\n",
       "  <tbody>\n",
       "    <tr>\n",
       "      <th>0</th>\n",
       "      <td>2008</td>\n",
       "      <td>117.09</td>\n",
       "      <td>9</td>\n",
       "    </tr>\n",
       "    <tr>\n",
       "      <th>1</th>\n",
       "      <td>2009</td>\n",
       "      <td>456.85</td>\n",
       "      <td>15</td>\n",
       "    </tr>\n",
       "    <tr>\n",
       "      <th>2</th>\n",
       "      <td>2010</td>\n",
       "      <td>2421.77</td>\n",
       "      <td>83</td>\n",
       "    </tr>\n",
       "    <tr>\n",
       "      <th>3</th>\n",
       "      <td>2011</td>\n",
       "      <td>7176.93</td>\n",
       "      <td>96</td>\n",
       "    </tr>\n",
       "    <tr>\n",
       "      <th>4</th>\n",
       "      <td>2012</td>\n",
       "      <td>3651.85</td>\n",
       "      <td>96</td>\n",
       "    </tr>\n",
       "    <tr>\n",
       "      <th>5</th>\n",
       "      <td>2013</td>\n",
       "      <td>3689.19</td>\n",
       "      <td>89</td>\n",
       "    </tr>\n",
       "    <tr>\n",
       "      <th>6</th>\n",
       "      <td>2014</td>\n",
       "      <td>2075.99</td>\n",
       "      <td>48</td>\n",
       "    </tr>\n",
       "    <tr>\n",
       "      <th>7</th>\n",
       "      <td>2015</td>\n",
       "      <td>1257.52</td>\n",
       "      <td>59</td>\n",
       "    </tr>\n",
       "    <tr>\n",
       "      <th>8</th>\n",
       "      <td>2016</td>\n",
       "      <td>823.48</td>\n",
       "      <td>36</td>\n",
       "    </tr>\n",
       "    <tr>\n",
       "      <th>9</th>\n",
       "      <td>2017</td>\n",
       "      <td>1392.77</td>\n",
       "      <td>68</td>\n",
       "    </tr>\n",
       "    <tr>\n",
       "      <th>10</th>\n",
       "      <td>2018</td>\n",
       "      <td>2689.12</td>\n",
       "      <td>69</td>\n",
       "    </tr>\n",
       "    <tr>\n",
       "      <th>11</th>\n",
       "      <td>2019</td>\n",
       "      <td>4604.85</td>\n",
       "      <td>113</td>\n",
       "    </tr>\n",
       "  </tbody>\n",
       "</table>\n",
       "</div>"
      ],
      "text/plain": [
       "    OrderYear  ItemTotal  Trans\n",
       "0        2008     117.09      9\n",
       "1        2009     456.85     15\n",
       "2        2010    2421.77     83\n",
       "3        2011    7176.93     96\n",
       "4        2012    3651.85     96\n",
       "5        2013    3689.19     89\n",
       "6        2014    2075.99     48\n",
       "7        2015    1257.52     59\n",
       "8        2016     823.48     36\n",
       "9        2017    1392.77     68\n",
       "10       2018    2689.12     69\n",
       "11       2019    4604.85    113"
      ]
     },
     "execution_count": 34,
     "metadata": {},
     "output_type": "execute_result"
    }
   ],
   "source": [
    "df_YearAvgTrans['Trans'] = df_NumTransYear.values\n",
    "df_YearAvgTrans"
   ]
  },
  {
   "cell_type": "code",
   "execution_count": 35,
   "metadata": {
    "execution": {
     "iopub.execute_input": "2020-11-08T02:33:44.065490Z",
     "iopub.status.busy": "2020-11-08T02:33:44.064520Z",
     "iopub.status.idle": "2020-11-08T02:33:44.068076Z",
     "shell.execute_reply": "2020-11-08T02:33:44.068864Z"
    },
    "papermill": {
     "duration": 0.043645,
     "end_time": "2020-11-08T02:33:44.069024",
     "exception": false,
     "start_time": "2020-11-08T02:33:44.025379",
     "status": "completed"
    },
    "tags": []
   },
   "outputs": [
    {
     "data": {
      "text/html": [
       "<div>\n",
       "<style scoped>\n",
       "    .dataframe tbody tr th:only-of-type {\n",
       "        vertical-align: middle;\n",
       "    }\n",
       "\n",
       "    .dataframe tbody tr th {\n",
       "        vertical-align: top;\n",
       "    }\n",
       "\n",
       "    .dataframe thead th {\n",
       "        text-align: right;\n",
       "    }\n",
       "</style>\n",
       "<table border=\"1\" class=\"dataframe\">\n",
       "  <thead>\n",
       "    <tr style=\"text-align: right;\">\n",
       "      <th></th>\n",
       "      <th>OrderYear</th>\n",
       "      <th>ItemTotal</th>\n",
       "      <th>Trans</th>\n",
       "      <th>AvgPerTrans</th>\n",
       "    </tr>\n",
       "  </thead>\n",
       "  <tbody>\n",
       "    <tr>\n",
       "      <th>0</th>\n",
       "      <td>2008</td>\n",
       "      <td>117.09</td>\n",
       "      <td>9</td>\n",
       "      <td>13.010000</td>\n",
       "    </tr>\n",
       "    <tr>\n",
       "      <th>1</th>\n",
       "      <td>2009</td>\n",
       "      <td>456.85</td>\n",
       "      <td>15</td>\n",
       "      <td>30.456667</td>\n",
       "    </tr>\n",
       "    <tr>\n",
       "      <th>2</th>\n",
       "      <td>2010</td>\n",
       "      <td>2421.77</td>\n",
       "      <td>83</td>\n",
       "      <td>29.177952</td>\n",
       "    </tr>\n",
       "    <tr>\n",
       "      <th>3</th>\n",
       "      <td>2011</td>\n",
       "      <td>7176.93</td>\n",
       "      <td>96</td>\n",
       "      <td>74.759687</td>\n",
       "    </tr>\n",
       "    <tr>\n",
       "      <th>4</th>\n",
       "      <td>2012</td>\n",
       "      <td>3651.85</td>\n",
       "      <td>96</td>\n",
       "      <td>38.040104</td>\n",
       "    </tr>\n",
       "    <tr>\n",
       "      <th>5</th>\n",
       "      <td>2013</td>\n",
       "      <td>3689.19</td>\n",
       "      <td>89</td>\n",
       "      <td>41.451573</td>\n",
       "    </tr>\n",
       "    <tr>\n",
       "      <th>6</th>\n",
       "      <td>2014</td>\n",
       "      <td>2075.99</td>\n",
       "      <td>48</td>\n",
       "      <td>43.249792</td>\n",
       "    </tr>\n",
       "    <tr>\n",
       "      <th>7</th>\n",
       "      <td>2015</td>\n",
       "      <td>1257.52</td>\n",
       "      <td>59</td>\n",
       "      <td>21.313898</td>\n",
       "    </tr>\n",
       "    <tr>\n",
       "      <th>8</th>\n",
       "      <td>2016</td>\n",
       "      <td>823.48</td>\n",
       "      <td>36</td>\n",
       "      <td>22.874444</td>\n",
       "    </tr>\n",
       "    <tr>\n",
       "      <th>9</th>\n",
       "      <td>2017</td>\n",
       "      <td>1392.77</td>\n",
       "      <td>68</td>\n",
       "      <td>20.481912</td>\n",
       "    </tr>\n",
       "    <tr>\n",
       "      <th>10</th>\n",
       "      <td>2018</td>\n",
       "      <td>2689.12</td>\n",
       "      <td>69</td>\n",
       "      <td>38.972754</td>\n",
       "    </tr>\n",
       "    <tr>\n",
       "      <th>11</th>\n",
       "      <td>2019</td>\n",
       "      <td>4604.85</td>\n",
       "      <td>113</td>\n",
       "      <td>40.750885</td>\n",
       "    </tr>\n",
       "  </tbody>\n",
       "</table>\n",
       "</div>"
      ],
      "text/plain": [
       "    OrderYear  ItemTotal  Trans  AvgPerTrans\n",
       "0        2008     117.09      9    13.010000\n",
       "1        2009     456.85     15    30.456667\n",
       "2        2010    2421.77     83    29.177952\n",
       "3        2011    7176.93     96    74.759687\n",
       "4        2012    3651.85     96    38.040104\n",
       "5        2013    3689.19     89    41.451573\n",
       "6        2014    2075.99     48    43.249792\n",
       "7        2015    1257.52     59    21.313898\n",
       "8        2016     823.48     36    22.874444\n",
       "9        2017    1392.77     68    20.481912\n",
       "10       2018    2689.12     69    38.972754\n",
       "11       2019    4604.85    113    40.750885"
      ]
     },
     "execution_count": 35,
     "metadata": {},
     "output_type": "execute_result"
    }
   ],
   "source": [
    "df_YearAvgTrans['AvgPerTrans'] = df_YearAvgTrans['ItemTotal'].div(df_YearAvgTrans['Trans'])\n",
    "df_YearAvgTrans"
   ]
  },
  {
   "cell_type": "code",
   "execution_count": 36,
   "metadata": {
    "execution": {
     "iopub.execute_input": "2020-11-08T02:33:44.139307Z",
     "iopub.status.busy": "2020-11-08T02:33:44.137907Z",
     "iopub.status.idle": "2020-11-08T02:33:44.140298Z",
     "shell.execute_reply": "2020-11-08T02:33:44.140999Z"
    },
    "papermill": {
     "duration": 0.038889,
     "end_time": "2020-11-08T02:33:44.141151",
     "exception": false,
     "start_time": "2020-11-08T02:33:44.102262",
     "status": "completed"
    },
    "tags": []
   },
   "outputs": [],
   "source": [
    "# All of the above can be done more quickly using the following:\n",
    "\n",
    "#df_YearAvgTrans = df[['OrderYear','ItemTotal']]\n",
    "#df_YearAvgTrans = df_YearAvgTrans.groupby(['OrderYear'], as_index = False)['ItemTotal'].sum()\n",
    "\n",
    "#df_YearOrders = df[['OrderYear','ItemTotal']].groupby('OrderYear')['ItemTotal'].size()\n",
    "#df_YearAvgTrans['Trans'] = df_YearOrders.values\n",
    "\n",
    "#df_YearAvgTrans['AvgTrans'] = df_YearAvgTrans['ItemTotal'].div(df_YearAvgTrans['Trans'])\n",
    "#df_YearAvgTrans"
   ]
  },
  {
   "cell_type": "code",
   "execution_count": 37,
   "metadata": {
    "execution": {
     "iopub.execute_input": "2020-11-08T02:33:44.300482Z",
     "iopub.status.busy": "2020-11-08T02:33:44.295061Z",
     "iopub.status.idle": "2020-11-08T02:33:44.410810Z",
     "shell.execute_reply": "2020-11-08T02:33:44.411857Z"
    },
    "papermill": {
     "duration": 0.237501,
     "end_time": "2020-11-08T02:33:44.412019",
     "exception": false,
     "start_time": "2020-11-08T02:33:44.174518",
     "status": "completed"
    },
    "tags": []
   },
   "outputs": [
    {
     "data": {
      "image/png": "[encoded data removed]",
      "text/plain": [
       "<Figure size 432x288 with 1 Axes>"
      ]
     },
     "metadata": {
      "needs_background": "light"
     },
     "output_type": "display_data"
    }
   ],
   "source": [
    "# Plot average per transaction by year\n",
    "\n",
    "fig, ax = plt.subplots()\n",
    "ax.bar(df_YearAvgTrans['OrderYear'],df_YearAvgTrans['AvgPerTrans'])\n",
    "ax.set_xlabel('Year')\n",
    "ax.set_ylabel('$ Amount')\n",
    "ax.set_title('Average per Transaction per Year')\n",
    "plt.xticks([x for x in df_YearAvgTrans['OrderYear']], rotation = 90)\n",
    "plt.show()\n",
    "#ax.figure.savefig('./img/AveragePerTransPerYear.png', bbox_inches='tight', dpi=150)"
   ]
  },
  {
   "cell_type": "code",
   "execution_count": 38,
   "metadata": {
    "execution": {
     "iopub.execute_input": "2020-11-08T02:33:44.483667Z",
     "iopub.status.busy": "2020-11-08T02:33:44.482625Z",
     "iopub.status.idle": "2020-11-08T02:33:44.486320Z",
     "shell.execute_reply": "2020-11-08T02:33:44.487012Z"
    },
    "papermill": {
     "duration": 0.042156,
     "end_time": "2020-11-08T02:33:44.487160",
     "exception": false,
     "start_time": "2020-11-08T02:33:44.445004",
     "status": "completed"
    },
    "tags": []
   },
   "outputs": [
    {
     "data": {
      "text/plain": [
       "USPS                    273\n",
       "UPS Mail Innovations      5\n",
       "UPS                     170\n",
       "Other                    98\n",
       "FedEx SmartPost           4\n",
       "FedEx                    22\n",
       "DHL                       9\n",
       "AMZN                    200\n",
       "Name: Carrier, dtype: int64"
      ]
     },
     "execution_count": 38,
     "metadata": {},
     "output_type": "execute_result"
    }
   ],
   "source": [
    "# Shipping method\n",
    "\n",
    "df_Carriers = df['Carrier']\n",
    "CarrierVC = df_Carriers.value_counts()\n",
    "CarrierVC = CarrierVC.sort_index(ascending = False)\n",
    "CarrierVC"
   ]
  },
  {
   "cell_type": "code",
   "execution_count": 39,
   "metadata": {
    "execution": {
     "iopub.execute_input": "2020-11-08T02:33:44.584019Z",
     "iopub.status.busy": "2020-11-08T02:33:44.583165Z",
     "iopub.status.idle": "2020-11-08T02:33:44.674228Z",
     "shell.execute_reply": "2020-11-08T02:33:44.675130Z"
    },
    "papermill": {
     "duration": 0.155415,
     "end_time": "2020-11-08T02:33:44.675363",
     "exception": false,
     "start_time": "2020-11-08T02:33:44.519948",
     "status": "completed"
    },
    "tags": []
   },
   "outputs": [
    {
     "data": {
      "image/png": "[encoded data removed]",
      "text/plain": [
       "<Figure size 432x288 with 1 Axes>"
      ]
     },
     "metadata": {
      "needs_background": "light"
     },
     "output_type": "display_data"
    }
   ],
   "source": [
    "# Plot of shipping method\n",
    "\n",
    "fig,ax = plt.subplots()\n",
    "ax.barh(CarrierVC.index, CarrierVC.values)\n",
    "ax.set_xlabel('Number of Orders')\n",
    "ax.set_ylabel('Carrier')\n",
    "ax.set_title('Shipping Method')\n",
    "plt.show()\n",
    "#ax.figure.savefig('./img/ShippingMethod.png', bbox_inches='tight', dpi=150)"
   ]
  },
  {
   "cell_type": "code",
   "execution_count": 40,
   "metadata": {
    "execution": {
     "iopub.execute_input": "2020-11-08T02:33:44.754481Z",
     "iopub.status.busy": "2020-11-08T02:33:44.753381Z",
     "iopub.status.idle": "2020-11-08T02:33:44.761443Z",
     "shell.execute_reply": "2020-11-08T02:33:44.762214Z"
    },
    "papermill": {
     "duration": 0.050928,
     "end_time": "2020-11-08T02:33:44.762369",
     "exception": false,
     "start_time": "2020-11-08T02:33:44.711441",
     "status": "completed"
    },
    "tags": []
   },
   "outputs": [
    {
     "data": {
      "text/html": [
       "<div>\n",
       "<style scoped>\n",
       "    .dataframe tbody tr th:only-of-type {\n",
       "        vertical-align: middle;\n",
       "    }\n",
       "\n",
       "    .dataframe tbody tr th {\n",
       "        vertical-align: top;\n",
       "    }\n",
       "\n",
       "    .dataframe thead th {\n",
       "        text-align: right;\n",
       "    }\n",
       "</style>\n",
       "<table border=\"1\" class=\"dataframe\">\n",
       "  <thead>\n",
       "    <tr style=\"text-align: right;\">\n",
       "      <th></th>\n",
       "      <th>Carrier</th>\n",
       "      <th>ItemTotal</th>\n",
       "      <th>NumTrans</th>\n",
       "      <th>AvgPerTrans</th>\n",
       "    </tr>\n",
       "  </thead>\n",
       "  <tbody>\n",
       "    <tr>\n",
       "      <th>7</th>\n",
       "      <td>USPS</td>\n",
       "      <td>6594.03</td>\n",
       "      <td>273</td>\n",
       "      <td>24.15</td>\n",
       "    </tr>\n",
       "    <tr>\n",
       "      <th>6</th>\n",
       "      <td>UPS Mail Innovations</td>\n",
       "      <td>57.62</td>\n",
       "      <td>5</td>\n",
       "      <td>11.52</td>\n",
       "    </tr>\n",
       "    <tr>\n",
       "      <th>5</th>\n",
       "      <td>UPS</td>\n",
       "      <td>10874.11</td>\n",
       "      <td>170</td>\n",
       "      <td>63.97</td>\n",
       "    </tr>\n",
       "    <tr>\n",
       "      <th>4</th>\n",
       "      <td>Other</td>\n",
       "      <td>4113.09</td>\n",
       "      <td>98</td>\n",
       "      <td>41.97</td>\n",
       "    </tr>\n",
       "    <tr>\n",
       "      <th>3</th>\n",
       "      <td>FedEx SmartPost</td>\n",
       "      <td>100.26</td>\n",
       "      <td>4</td>\n",
       "      <td>25.06</td>\n",
       "    </tr>\n",
       "    <tr>\n",
       "      <th>2</th>\n",
       "      <td>FedEx</td>\n",
       "      <td>1948.20</td>\n",
       "      <td>22</td>\n",
       "      <td>88.55</td>\n",
       "    </tr>\n",
       "    <tr>\n",
       "      <th>1</th>\n",
       "      <td>DHL</td>\n",
       "      <td>89.71</td>\n",
       "      <td>9</td>\n",
       "      <td>9.97</td>\n",
       "    </tr>\n",
       "    <tr>\n",
       "      <th>0</th>\n",
       "      <td>AMZN</td>\n",
       "      <td>6580.39</td>\n",
       "      <td>200</td>\n",
       "      <td>32.90</td>\n",
       "    </tr>\n",
       "  </tbody>\n",
       "</table>\n",
       "</div>"
      ],
      "text/plain": [
       "                Carrier  ItemTotal  NumTrans  AvgPerTrans\n",
       "7                  USPS    6594.03       273        24.15\n",
       "6  UPS Mail Innovations      57.62         5        11.52\n",
       "5                   UPS   10874.11       170        63.97\n",
       "4                 Other    4113.09        98        41.97\n",
       "3       FedEx SmartPost     100.26         4        25.06\n",
       "2                 FedEx    1948.20        22        88.55\n",
       "1                   DHL      89.71         9         9.97\n",
       "0                  AMZN    6580.39       200        32.90"
      ]
     },
     "execution_count": 40,
     "metadata": {},
     "output_type": "execute_result"
    }
   ],
   "source": [
    "# Shipping method and avg transaction cost\n",
    "\n",
    "df_CarrierTotal = df[['Carrier', 'ItemTotal']]\n",
    "df_CarrierTotal = df_CarrierTotal.groupby('Carrier', as_index = False)['ItemTotal'].sum()\n",
    "\n",
    "df_CarrierTrans = df[['Carrier', 'ItemTotal']].groupby('Carrier')['ItemTotal'].size()\n",
    "df_CarrierTotal['NumTrans'] = df_CarrierTrans.values\n",
    "\n",
    "df_CarrierTotal['AvgPerTrans'] = df_CarrierTotal['ItemTotal'].div(df_CarrierTotal['NumTrans']).round(2)\n",
    "\n",
    "df_CarrierTotal = df_CarrierTotal.sort_values('Carrier', ascending = False)\n",
    "df_CarrierTotal"
   ]
  },
  {
   "cell_type": "code",
   "execution_count": 41,
   "metadata": {
    "execution": {
     "iopub.execute_input": "2020-11-08T02:33:44.859685Z",
     "iopub.status.busy": "2020-11-08T02:33:44.858790Z",
     "iopub.status.idle": "2020-11-08T02:33:44.947866Z",
     "shell.execute_reply": "2020-11-08T02:33:44.948629Z"
    },
    "papermill": {
     "duration": 0.151856,
     "end_time": "2020-11-08T02:33:44.948852",
     "exception": false,
     "start_time": "2020-11-08T02:33:44.796996",
     "status": "completed"
    },
    "tags": []
   },
   "outputs": [
    {
     "data": {
      "image/png": "[encoded data removed]",
      "text/plain": [
       "<Figure size 432x288 with 1 Axes>"
      ]
     },
     "metadata": {
      "needs_background": "light"
     },
     "output_type": "display_data"
    }
   ],
   "source": [
    "# Plot shipping method and avg transaction cost\n",
    "\n",
    "fig,ax = plt.subplots()\n",
    "ax.barh(df_CarrierTotal['Carrier'], df_CarrierTotal['AvgPerTrans'])\n",
    "ax.set_xlabel('$ Avg Per Transaction')\n",
    "ax.set_ylabel('Carrier')\n",
    "ax.set_title('Shipping Method & Average Price Per Transaction')\n",
    "plt.show()\n",
    "#ax.figure.savefig('./img/ShippingMethodPrice.png', bbox_inches='tight', dpi=150)"
   ]
  },
  {
   "cell_type": "code",
   "execution_count": null,
   "metadata": {
    "papermill": {
     "duration": 0.038814,
     "end_time": "2020-11-08T02:33:45.029504",
     "exception": false,
     "start_time": "2020-11-08T02:33:44.990690",
     "status": "completed"
    },
    "tags": []
   },
   "outputs": [],
   "source": []
  },
  {
   "cell_type": "code",
   "execution_count": null,
   "metadata": {
    "papermill": {
     "duration": 0.038465,
     "end_time": "2020-11-08T02:33:45.106077",
     "exception": false,
     "start_time": "2020-11-08T02:33:45.067612",
     "status": "completed"
    },
    "tags": []
   },
   "outputs": [],
   "source": []
  }
 ],
 "metadata": {
  "kernelspec": {
   "display_name": "Python 3",
   "language": "python",
   "name": "python3"
  },
  "language_info": {
   "codemirror_mode": {
    "name": "ipython",
    "version": 3
   },
   "file_extension": ".py",
   "mimetype": "text/x-python",
   "name": "python",
   "nbconvert_exporter": "python",
   "pygments_lexer": "ipython3",
   "version": "3.8.5"
  },
  "papermill": {
   "default_parameters": {},
   "duration": 7.432242,
   "end_time": "2020-11-08T02:33:45.465016",
   "environment_variables": {},
   "exception": null,
   "input_path": "/Users/amit/Coding/Projects/AmazonOrderHistoryAirflowAWS_EC2/AmazonOrderHistoryAirflowAWS_EC2_input.ipynb",
   "output_path": "/Users/amit/Coding/Projects/AmazonOrderHistoryAirflowAWS_EC2/AmazonOrderHistoryAirflowAWS_EC2_output.ipynb",
   "parameters": {},
   "start_time": "2020-11-08T02:33:38.032774",
   "version": "2.2.2"
  }
 },
 "nbformat": 4,
 "nbformat_minor": 4
}